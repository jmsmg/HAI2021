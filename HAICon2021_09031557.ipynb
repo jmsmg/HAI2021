{
  "nbformat": 4,
  "nbformat_minor": 0,
  "metadata": {
    "colab": {
      "name": "HAICon2021_09031557.ipynb",
      "provenance": [],
      "collapsed_sections": []
    },
    "kernelspec": {
      "name": "python3",
      "display_name": "Python 3"
    },
    "language_info": {
      "name": "python"
    },
    "accelerator": "GPU",
    "widgets": {
      "application/vnd.jupyter.widget-state+json": {
        "b3e013beff01494fa3054b89f0796244": {
          "model_module": "@jupyter-widgets/controls",
          "model_name": "HBoxModel",
          "model_module_version": "1.5.0",
          "state": {
            "_view_name": "HBoxView",
            "_dom_classes": [],
            "_model_name": "HBoxModel",
            "_view_module": "@jupyter-widgets/controls",
            "_model_module_version": "1.5.0",
            "_view_count": null,
            "_view_module_version": "1.5.0",
            "box_style": "",
            "layout": "IPY_MODEL_64fa21ac6c4a442baeb56e01596f0382",
            "_model_module": "@jupyter-widgets/controls",
            "children": [
              "IPY_MODEL_97facba1c9de4ff7a22df40a8c75a87d",
              "IPY_MODEL_dbd4bc7a0b7243758250a3fc8bb573ec",
              "IPY_MODEL_72e0422af86447bb8447b15a2eda1b6b"
            ]
          }
        },
        "64fa21ac6c4a442baeb56e01596f0382": {
          "model_module": "@jupyter-widgets/base",
          "model_name": "LayoutModel",
          "model_module_version": "1.2.0",
          "state": {
            "_view_name": "LayoutView",
            "grid_template_rows": null,
            "right": null,
            "justify_content": null,
            "_view_module": "@jupyter-widgets/base",
            "overflow": null,
            "_model_module_version": "1.2.0",
            "_view_count": null,
            "flex_flow": null,
            "width": null,
            "min_width": null,
            "border": null,
            "align_items": null,
            "bottom": null,
            "_model_module": "@jupyter-widgets/base",
            "top": null,
            "grid_column": null,
            "overflow_y": null,
            "overflow_x": null,
            "grid_auto_flow": null,
            "grid_area": null,
            "grid_template_columns": null,
            "flex": null,
            "_model_name": "LayoutModel",
            "justify_items": null,
            "grid_row": null,
            "max_height": null,
            "align_content": null,
            "visibility": null,
            "align_self": null,
            "height": null,
            "min_height": null,
            "padding": null,
            "grid_auto_rows": null,
            "grid_gap": null,
            "max_width": null,
            "order": null,
            "_view_module_version": "1.2.0",
            "grid_template_areas": null,
            "object_position": null,
            "object_fit": null,
            "grid_auto_columns": null,
            "margin": null,
            "display": null,
            "left": null
          }
        },
        "97facba1c9de4ff7a22df40a8c75a87d": {
          "model_module": "@jupyter-widgets/controls",
          "model_name": "HTMLModel",
          "model_module_version": "1.5.0",
          "state": {
            "_view_name": "HTMLView",
            "style": "IPY_MODEL_1dfc6f7564e2456b96737534c6fb3d04",
            "_dom_classes": [],
            "description": "",
            "_model_name": "HTMLModel",
            "placeholder": "​",
            "_view_module": "@jupyter-widgets/controls",
            "_model_module_version": "1.5.0",
            "value": "100%",
            "_view_count": null,
            "_view_module_version": "1.5.0",
            "description_tooltip": null,
            "_model_module": "@jupyter-widgets/controls",
            "layout": "IPY_MODEL_ebd8bea6adea4507b54602553761f351"
          }
        },
        "dbd4bc7a0b7243758250a3fc8bb573ec": {
          "model_module": "@jupyter-widgets/controls",
          "model_name": "FloatProgressModel",
          "model_module_version": "1.5.0",
          "state": {
            "_view_name": "ProgressView",
            "style": "IPY_MODEL_706792d23bd3424baf4a35258d9c6f08",
            "_dom_classes": [],
            "description": "",
            "_model_name": "FloatProgressModel",
            "bar_style": "success",
            "max": 1004303,
            "_view_module": "@jupyter-widgets/controls",
            "_model_module_version": "1.5.0",
            "value": 1004303,
            "_view_count": null,
            "_view_module_version": "1.5.0",
            "orientation": "horizontal",
            "min": 0,
            "description_tooltip": null,
            "_model_module": "@jupyter-widgets/controls",
            "layout": "IPY_MODEL_edaaa37189f348f1801e73a0310b93d2"
          }
        },
        "72e0422af86447bb8447b15a2eda1b6b": {
          "model_module": "@jupyter-widgets/controls",
          "model_name": "HTMLModel",
          "model_module_version": "1.5.0",
          "state": {
            "_view_name": "HTMLView",
            "style": "IPY_MODEL_d17b93be169f449fbbc6272c910a7cfd",
            "_dom_classes": [],
            "description": "",
            "_model_name": "HTMLModel",
            "placeholder": "​",
            "_view_module": "@jupyter-widgets/controls",
            "_model_module_version": "1.5.0",
            "value": " 1004303/1004303 [03:20&lt;00:00, 5158.79it/s]",
            "_view_count": null,
            "_view_module_version": "1.5.0",
            "description_tooltip": null,
            "_model_module": "@jupyter-widgets/controls",
            "layout": "IPY_MODEL_37ed63178054464ea2003150977889d1"
          }
        },
        "1dfc6f7564e2456b96737534c6fb3d04": {
          "model_module": "@jupyter-widgets/controls",
          "model_name": "DescriptionStyleModel",
          "model_module_version": "1.5.0",
          "state": {
            "_view_name": "StyleView",
            "_model_name": "DescriptionStyleModel",
            "description_width": "",
            "_view_module": "@jupyter-widgets/base",
            "_model_module_version": "1.5.0",
            "_view_count": null,
            "_view_module_version": "1.2.0",
            "_model_module": "@jupyter-widgets/controls"
          }
        },
        "ebd8bea6adea4507b54602553761f351": {
          "model_module": "@jupyter-widgets/base",
          "model_name": "LayoutModel",
          "model_module_version": "1.2.0",
          "state": {
            "_view_name": "LayoutView",
            "grid_template_rows": null,
            "right": null,
            "justify_content": null,
            "_view_module": "@jupyter-widgets/base",
            "overflow": null,
            "_model_module_version": "1.2.0",
            "_view_count": null,
            "flex_flow": null,
            "width": null,
            "min_width": null,
            "border": null,
            "align_items": null,
            "bottom": null,
            "_model_module": "@jupyter-widgets/base",
            "top": null,
            "grid_column": null,
            "overflow_y": null,
            "overflow_x": null,
            "grid_auto_flow": null,
            "grid_area": null,
            "grid_template_columns": null,
            "flex": null,
            "_model_name": "LayoutModel",
            "justify_items": null,
            "grid_row": null,
            "max_height": null,
            "align_content": null,
            "visibility": null,
            "align_self": null,
            "height": null,
            "min_height": null,
            "padding": null,
            "grid_auto_rows": null,
            "grid_gap": null,
            "max_width": null,
            "order": null,
            "_view_module_version": "1.2.0",
            "grid_template_areas": null,
            "object_position": null,
            "object_fit": null,
            "grid_auto_columns": null,
            "margin": null,
            "display": null,
            "left": null
          }
        },
        "706792d23bd3424baf4a35258d9c6f08": {
          "model_module": "@jupyter-widgets/controls",
          "model_name": "ProgressStyleModel",
          "model_module_version": "1.5.0",
          "state": {
            "_view_name": "StyleView",
            "_model_name": "ProgressStyleModel",
            "description_width": "",
            "_view_module": "@jupyter-widgets/base",
            "_model_module_version": "1.5.0",
            "_view_count": null,
            "_view_module_version": "1.2.0",
            "bar_color": null,
            "_model_module": "@jupyter-widgets/controls"
          }
        },
        "edaaa37189f348f1801e73a0310b93d2": {
          "model_module": "@jupyter-widgets/base",
          "model_name": "LayoutModel",
          "model_module_version": "1.2.0",
          "state": {
            "_view_name": "LayoutView",
            "grid_template_rows": null,
            "right": null,
            "justify_content": null,
            "_view_module": "@jupyter-widgets/base",
            "overflow": null,
            "_model_module_version": "1.2.0",
            "_view_count": null,
            "flex_flow": null,
            "width": null,
            "min_width": null,
            "border": null,
            "align_items": null,
            "bottom": null,
            "_model_module": "@jupyter-widgets/base",
            "top": null,
            "grid_column": null,
            "overflow_y": null,
            "overflow_x": null,
            "grid_auto_flow": null,
            "grid_area": null,
            "grid_template_columns": null,
            "flex": null,
            "_model_name": "LayoutModel",
            "justify_items": null,
            "grid_row": null,
            "max_height": null,
            "align_content": null,
            "visibility": null,
            "align_self": null,
            "height": null,
            "min_height": null,
            "padding": null,
            "grid_auto_rows": null,
            "grid_gap": null,
            "max_width": null,
            "order": null,
            "_view_module_version": "1.2.0",
            "grid_template_areas": null,
            "object_position": null,
            "object_fit": null,
            "grid_auto_columns": null,
            "margin": null,
            "display": null,
            "left": null
          }
        },
        "d17b93be169f449fbbc6272c910a7cfd": {
          "model_module": "@jupyter-widgets/controls",
          "model_name": "DescriptionStyleModel",
          "model_module_version": "1.5.0",
          "state": {
            "_view_name": "StyleView",
            "_model_name": "DescriptionStyleModel",
            "description_width": "",
            "_view_module": "@jupyter-widgets/base",
            "_model_module_version": "1.5.0",
            "_view_count": null,
            "_view_module_version": "1.2.0",
            "_model_module": "@jupyter-widgets/controls"
          }
        },
        "37ed63178054464ea2003150977889d1": {
          "model_module": "@jupyter-widgets/base",
          "model_name": "LayoutModel",
          "model_module_version": "1.2.0",
          "state": {
            "_view_name": "LayoutView",
            "grid_template_rows": null,
            "right": null,
            "justify_content": null,
            "_view_module": "@jupyter-widgets/base",
            "overflow": null,
            "_model_module_version": "1.2.0",
            "_view_count": null,
            "flex_flow": null,
            "width": null,
            "min_width": null,
            "border": null,
            "align_items": null,
            "bottom": null,
            "_model_module": "@jupyter-widgets/base",
            "top": null,
            "grid_column": null,
            "overflow_y": null,
            "overflow_x": null,
            "grid_auto_flow": null,
            "grid_area": null,
            "grid_template_columns": null,
            "flex": null,
            "_model_name": "LayoutModel",
            "justify_items": null,
            "grid_row": null,
            "max_height": null,
            "align_content": null,
            "visibility": null,
            "align_self": null,
            "height": null,
            "min_height": null,
            "padding": null,
            "grid_auto_rows": null,
            "grid_gap": null,
            "max_width": null,
            "order": null,
            "_view_module_version": "1.2.0",
            "grid_template_areas": null,
            "object_position": null,
            "object_fit": null,
            "grid_auto_columns": null,
            "margin": null,
            "display": null,
            "left": null
          }
        },
        "f0cc131cc92242c88e95cbed18bf2dd8": {
          "model_module": "@jupyter-widgets/controls",
          "model_name": "HBoxModel",
          "model_module_version": "1.5.0",
          "state": {
            "_view_name": "HBoxView",
            "_dom_classes": [],
            "_model_name": "HBoxModel",
            "_view_module": "@jupyter-widgets/controls",
            "_model_module_version": "1.5.0",
            "_view_count": null,
            "_view_module_version": "1.5.0",
            "box_style": "",
            "layout": "IPY_MODEL_f3f8c54b548b42cebb2a600034f60560",
            "_model_module": "@jupyter-widgets/controls",
            "children": [
              "IPY_MODEL_b8214874ff0b4573bc1d5469987d9daf",
              "IPY_MODEL_87b1d6a403614864ba54b0018b36e163",
              "IPY_MODEL_21ac4c5d28004d67be1502c409db2b7e"
            ]
          }
        },
        "f3f8c54b548b42cebb2a600034f60560": {
          "model_module": "@jupyter-widgets/base",
          "model_name": "LayoutModel",
          "model_module_version": "1.2.0",
          "state": {
            "_view_name": "LayoutView",
            "grid_template_rows": null,
            "right": null,
            "justify_content": null,
            "_view_module": "@jupyter-widgets/base",
            "overflow": null,
            "_model_module_version": "1.2.0",
            "_view_count": null,
            "flex_flow": null,
            "width": null,
            "min_width": null,
            "border": null,
            "align_items": null,
            "bottom": null,
            "_model_module": "@jupyter-widgets/base",
            "top": null,
            "grid_column": null,
            "overflow_y": null,
            "overflow_x": null,
            "grid_auto_flow": null,
            "grid_area": null,
            "grid_template_columns": null,
            "flex": null,
            "_model_name": "LayoutModel",
            "justify_items": null,
            "grid_row": null,
            "max_height": null,
            "align_content": null,
            "visibility": null,
            "align_self": null,
            "height": null,
            "min_height": null,
            "padding": null,
            "grid_auto_rows": null,
            "grid_gap": null,
            "max_width": null,
            "order": null,
            "_view_module_version": "1.2.0",
            "grid_template_areas": null,
            "object_position": null,
            "object_fit": null,
            "grid_auto_columns": null,
            "margin": null,
            "display": null,
            "left": null
          }
        },
        "b8214874ff0b4573bc1d5469987d9daf": {
          "model_module": "@jupyter-widgets/controls",
          "model_name": "HTMLModel",
          "model_module_version": "1.5.0",
          "state": {
            "_view_name": "HTMLView",
            "style": "IPY_MODEL_31818bf1b62c4092962ce66a1dd8df02",
            "_dom_classes": [],
            "description": "",
            "_model_name": "HTMLModel",
            "placeholder": "​",
            "_view_module": "@jupyter-widgets/controls",
            "_model_module_version": "1.5.0",
            "value": "100%",
            "_view_count": null,
            "_view_module_version": "1.5.0",
            "description_tooltip": null,
            "_model_module": "@jupyter-widgets/controls",
            "layout": "IPY_MODEL_3e11bd2ca46841e9839d76bf375894d5"
          }
        },
        "87b1d6a403614864ba54b0018b36e163": {
          "model_module": "@jupyter-widgets/controls",
          "model_name": "FloatProgressModel",
          "model_module_version": "1.5.0",
          "state": {
            "_view_name": "ProgressView",
            "style": "IPY_MODEL_7292d86343a049fe94ea2dd22c447ac9",
            "_dom_classes": [],
            "description": "",
            "_model_name": "FloatProgressModel",
            "bar_style": "success",
            "max": 86301,
            "_view_module": "@jupyter-widgets/controls",
            "_model_module_version": "1.5.0",
            "value": 86301,
            "_view_count": null,
            "_view_module_version": "1.5.0",
            "orientation": "horizontal",
            "min": 0,
            "description_tooltip": null,
            "_model_module": "@jupyter-widgets/controls",
            "layout": "IPY_MODEL_83301820c3934e0cb4486e9c7efbf299"
          }
        },
        "21ac4c5d28004d67be1502c409db2b7e": {
          "model_module": "@jupyter-widgets/controls",
          "model_name": "HTMLModel",
          "model_module_version": "1.5.0",
          "state": {
            "_view_name": "HTMLView",
            "style": "IPY_MODEL_7d174fbb40c44f10bcce70ca571cb4be",
            "_dom_classes": [],
            "description": "",
            "_model_name": "HTMLModel",
            "placeholder": "​",
            "_view_module": "@jupyter-widgets/controls",
            "_model_module_version": "1.5.0",
            "value": " 86301/86301 [00:17&lt;00:00, 4898.40it/s]",
            "_view_count": null,
            "_view_module_version": "1.5.0",
            "description_tooltip": null,
            "_model_module": "@jupyter-widgets/controls",
            "layout": "IPY_MODEL_0149ec3fe1284793842da7bac185b68d"
          }
        },
        "31818bf1b62c4092962ce66a1dd8df02": {
          "model_module": "@jupyter-widgets/controls",
          "model_name": "DescriptionStyleModel",
          "model_module_version": "1.5.0",
          "state": {
            "_view_name": "StyleView",
            "_model_name": "DescriptionStyleModel",
            "description_width": "",
            "_view_module": "@jupyter-widgets/base",
            "_model_module_version": "1.5.0",
            "_view_count": null,
            "_view_module_version": "1.2.0",
            "_model_module": "@jupyter-widgets/controls"
          }
        },
        "3e11bd2ca46841e9839d76bf375894d5": {
          "model_module": "@jupyter-widgets/base",
          "model_name": "LayoutModel",
          "model_module_version": "1.2.0",
          "state": {
            "_view_name": "LayoutView",
            "grid_template_rows": null,
            "right": null,
            "justify_content": null,
            "_view_module": "@jupyter-widgets/base",
            "overflow": null,
            "_model_module_version": "1.2.0",
            "_view_count": null,
            "flex_flow": null,
            "width": null,
            "min_width": null,
            "border": null,
            "align_items": null,
            "bottom": null,
            "_model_module": "@jupyter-widgets/base",
            "top": null,
            "grid_column": null,
            "overflow_y": null,
            "overflow_x": null,
            "grid_auto_flow": null,
            "grid_area": null,
            "grid_template_columns": null,
            "flex": null,
            "_model_name": "LayoutModel",
            "justify_items": null,
            "grid_row": null,
            "max_height": null,
            "align_content": null,
            "visibility": null,
            "align_self": null,
            "height": null,
            "min_height": null,
            "padding": null,
            "grid_auto_rows": null,
            "grid_gap": null,
            "max_width": null,
            "order": null,
            "_view_module_version": "1.2.0",
            "grid_template_areas": null,
            "object_position": null,
            "object_fit": null,
            "grid_auto_columns": null,
            "margin": null,
            "display": null,
            "left": null
          }
        },
        "7292d86343a049fe94ea2dd22c447ac9": {
          "model_module": "@jupyter-widgets/controls",
          "model_name": "ProgressStyleModel",
          "model_module_version": "1.5.0",
          "state": {
            "_view_name": "StyleView",
            "_model_name": "ProgressStyleModel",
            "description_width": "",
            "_view_module": "@jupyter-widgets/base",
            "_model_module_version": "1.5.0",
            "_view_count": null,
            "_view_module_version": "1.2.0",
            "bar_color": null,
            "_model_module": "@jupyter-widgets/controls"
          }
        },
        "83301820c3934e0cb4486e9c7efbf299": {
          "model_module": "@jupyter-widgets/base",
          "model_name": "LayoutModel",
          "model_module_version": "1.2.0",
          "state": {
            "_view_name": "LayoutView",
            "grid_template_rows": null,
            "right": null,
            "justify_content": null,
            "_view_module": "@jupyter-widgets/base",
            "overflow": null,
            "_model_module_version": "1.2.0",
            "_view_count": null,
            "flex_flow": null,
            "width": null,
            "min_width": null,
            "border": null,
            "align_items": null,
            "bottom": null,
            "_model_module": "@jupyter-widgets/base",
            "top": null,
            "grid_column": null,
            "overflow_y": null,
            "overflow_x": null,
            "grid_auto_flow": null,
            "grid_area": null,
            "grid_template_columns": null,
            "flex": null,
            "_model_name": "LayoutModel",
            "justify_items": null,
            "grid_row": null,
            "max_height": null,
            "align_content": null,
            "visibility": null,
            "align_self": null,
            "height": null,
            "min_height": null,
            "padding": null,
            "grid_auto_rows": null,
            "grid_gap": null,
            "max_width": null,
            "order": null,
            "_view_module_version": "1.2.0",
            "grid_template_areas": null,
            "object_position": null,
            "object_fit": null,
            "grid_auto_columns": null,
            "margin": null,
            "display": null,
            "left": null
          }
        },
        "7d174fbb40c44f10bcce70ca571cb4be": {
          "model_module": "@jupyter-widgets/controls",
          "model_name": "DescriptionStyleModel",
          "model_module_version": "1.5.0",
          "state": {
            "_view_name": "StyleView",
            "_model_name": "DescriptionStyleModel",
            "description_width": "",
            "_view_module": "@jupyter-widgets/base",
            "_model_module_version": "1.5.0",
            "_view_count": null,
            "_view_module_version": "1.2.0",
            "_model_module": "@jupyter-widgets/controls"
          }
        },
        "0149ec3fe1284793842da7bac185b68d": {
          "model_module": "@jupyter-widgets/base",
          "model_name": "LayoutModel",
          "model_module_version": "1.2.0",
          "state": {
            "_view_name": "LayoutView",
            "grid_template_rows": null,
            "right": null,
            "justify_content": null,
            "_view_module": "@jupyter-widgets/base",
            "overflow": null,
            "_model_module_version": "1.2.0",
            "_view_count": null,
            "flex_flow": null,
            "width": null,
            "min_width": null,
            "border": null,
            "align_items": null,
            "bottom": null,
            "_model_module": "@jupyter-widgets/base",
            "top": null,
            "grid_column": null,
            "overflow_y": null,
            "overflow_x": null,
            "grid_auto_flow": null,
            "grid_area": null,
            "grid_template_columns": null,
            "flex": null,
            "_model_name": "LayoutModel",
            "justify_items": null,
            "grid_row": null,
            "max_height": null,
            "align_content": null,
            "visibility": null,
            "align_self": null,
            "height": null,
            "min_height": null,
            "padding": null,
            "grid_auto_rows": null,
            "grid_gap": null,
            "max_width": null,
            "order": null,
            "_view_module_version": "1.2.0",
            "grid_template_areas": null,
            "object_position": null,
            "object_fit": null,
            "grid_auto_columns": null,
            "margin": null,
            "display": null,
            "left": null
          }
        },
        "bc2deac2cef14159b2abf873f1bb478c": {
          "model_module": "@jupyter-widgets/controls",
          "model_name": "HBoxModel",
          "model_module_version": "1.5.0",
          "state": {
            "_view_name": "HBoxView",
            "_dom_classes": [],
            "_model_name": "HBoxModel",
            "_view_module": "@jupyter-widgets/controls",
            "_model_module_version": "1.5.0",
            "_view_count": null,
            "_view_module_version": "1.5.0",
            "box_style": "",
            "layout": "IPY_MODEL_cf12809f925f4fba8dc8d7a9d6d9007c",
            "_model_module": "@jupyter-widgets/controls",
            "children": [
              "IPY_MODEL_74aa82ad69d84ada8e21f7e9ef8738fd",
              "IPY_MODEL_e4dda293d5dc4389a59e2f15edf4b1b7",
              "IPY_MODEL_67d2df53d906461e8926a0690f04da59"
            ]
          }
        },
        "cf12809f925f4fba8dc8d7a9d6d9007c": {
          "model_module": "@jupyter-widgets/base",
          "model_name": "LayoutModel",
          "model_module_version": "1.2.0",
          "state": {
            "_view_name": "LayoutView",
            "grid_template_rows": null,
            "right": null,
            "justify_content": null,
            "_view_module": "@jupyter-widgets/base",
            "overflow": null,
            "_model_module_version": "1.2.0",
            "_view_count": null,
            "flex_flow": null,
            "width": null,
            "min_width": null,
            "border": null,
            "align_items": null,
            "bottom": null,
            "_model_module": "@jupyter-widgets/base",
            "top": null,
            "grid_column": null,
            "overflow_y": null,
            "overflow_x": null,
            "grid_auto_flow": null,
            "grid_area": null,
            "grid_template_columns": null,
            "flex": null,
            "_model_name": "LayoutModel",
            "justify_items": null,
            "grid_row": null,
            "max_height": null,
            "align_content": null,
            "visibility": null,
            "align_self": null,
            "height": null,
            "min_height": null,
            "padding": null,
            "grid_auto_rows": null,
            "grid_gap": null,
            "max_width": null,
            "order": null,
            "_view_module_version": "1.2.0",
            "grid_template_areas": null,
            "object_position": null,
            "object_fit": null,
            "grid_auto_columns": null,
            "margin": null,
            "display": null,
            "left": null
          }
        },
        "74aa82ad69d84ada8e21f7e9ef8738fd": {
          "model_module": "@jupyter-widgets/controls",
          "model_name": "HTMLModel",
          "model_module_version": "1.5.0",
          "state": {
            "_view_name": "HTMLView",
            "style": "IPY_MODEL_6020f64425834bc085f75c9147fa73e4",
            "_dom_classes": [],
            "description": "",
            "_model_name": "HTMLModel",
            "placeholder": "​",
            "_view_module": "@jupyter-widgets/controls",
            "_model_module_version": "1.5.0",
            "value": "100%",
            "_view_count": null,
            "_view_module_version": "1.5.0",
            "description_tooltip": null,
            "_model_module": "@jupyter-widgets/controls",
            "layout": "IPY_MODEL_dd788f8094b348f99650de1168f66cf0"
          }
        },
        "e4dda293d5dc4389a59e2f15edf4b1b7": {
          "model_module": "@jupyter-widgets/controls",
          "model_name": "FloatProgressModel",
          "model_module_version": "1.5.0",
          "state": {
            "_view_name": "ProgressView",
            "style": "IPY_MODEL_f17555785916410eb2f9e92192a113f3",
            "_dom_classes": [],
            "description": "",
            "_model_name": "FloatProgressModel",
            "bar_style": "success",
            "max": 274701,
            "_view_module": "@jupyter-widgets/controls",
            "_model_module_version": "1.5.0",
            "value": 274701,
            "_view_count": null,
            "_view_module_version": "1.5.0",
            "orientation": "horizontal",
            "min": 0,
            "description_tooltip": null,
            "_model_module": "@jupyter-widgets/controls",
            "layout": "IPY_MODEL_03a147552a56423498018f904ca75035"
          }
        },
        "67d2df53d906461e8926a0690f04da59": {
          "model_module": "@jupyter-widgets/controls",
          "model_name": "HTMLModel",
          "model_module_version": "1.5.0",
          "state": {
            "_view_name": "HTMLView",
            "style": "IPY_MODEL_57e497d85d6240139c0b930d1fcf7d0a",
            "_dom_classes": [],
            "description": "",
            "_model_name": "HTMLModel",
            "placeholder": "​",
            "_view_module": "@jupyter-widgets/controls",
            "_model_module_version": "1.5.0",
            "value": " 274701/274701 [00:55&lt;00:00, 4998.62it/s]",
            "_view_count": null,
            "_view_module_version": "1.5.0",
            "description_tooltip": null,
            "_model_module": "@jupyter-widgets/controls",
            "layout": "IPY_MODEL_5995395dbd604cfcb7204be96dde92fe"
          }
        },
        "6020f64425834bc085f75c9147fa73e4": {
          "model_module": "@jupyter-widgets/controls",
          "model_name": "DescriptionStyleModel",
          "model_module_version": "1.5.0",
          "state": {
            "_view_name": "StyleView",
            "_model_name": "DescriptionStyleModel",
            "description_width": "",
            "_view_module": "@jupyter-widgets/base",
            "_model_module_version": "1.5.0",
            "_view_count": null,
            "_view_module_version": "1.2.0",
            "_model_module": "@jupyter-widgets/controls"
          }
        },
        "dd788f8094b348f99650de1168f66cf0": {
          "model_module": "@jupyter-widgets/base",
          "model_name": "LayoutModel",
          "model_module_version": "1.2.0",
          "state": {
            "_view_name": "LayoutView",
            "grid_template_rows": null,
            "right": null,
            "justify_content": null,
            "_view_module": "@jupyter-widgets/base",
            "overflow": null,
            "_model_module_version": "1.2.0",
            "_view_count": null,
            "flex_flow": null,
            "width": null,
            "min_width": null,
            "border": null,
            "align_items": null,
            "bottom": null,
            "_model_module": "@jupyter-widgets/base",
            "top": null,
            "grid_column": null,
            "overflow_y": null,
            "overflow_x": null,
            "grid_auto_flow": null,
            "grid_area": null,
            "grid_template_columns": null,
            "flex": null,
            "_model_name": "LayoutModel",
            "justify_items": null,
            "grid_row": null,
            "max_height": null,
            "align_content": null,
            "visibility": null,
            "align_self": null,
            "height": null,
            "min_height": null,
            "padding": null,
            "grid_auto_rows": null,
            "grid_gap": null,
            "max_width": null,
            "order": null,
            "_view_module_version": "1.2.0",
            "grid_template_areas": null,
            "object_position": null,
            "object_fit": null,
            "grid_auto_columns": null,
            "margin": null,
            "display": null,
            "left": null
          }
        },
        "f17555785916410eb2f9e92192a113f3": {
          "model_module": "@jupyter-widgets/controls",
          "model_name": "ProgressStyleModel",
          "model_module_version": "1.5.0",
          "state": {
            "_view_name": "StyleView",
            "_model_name": "ProgressStyleModel",
            "description_width": "",
            "_view_module": "@jupyter-widgets/base",
            "_model_module_version": "1.5.0",
            "_view_count": null,
            "_view_module_version": "1.2.0",
            "bar_color": null,
            "_model_module": "@jupyter-widgets/controls"
          }
        },
        "03a147552a56423498018f904ca75035": {
          "model_module": "@jupyter-widgets/base",
          "model_name": "LayoutModel",
          "model_module_version": "1.2.0",
          "state": {
            "_view_name": "LayoutView",
            "grid_template_rows": null,
            "right": null,
            "justify_content": null,
            "_view_module": "@jupyter-widgets/base",
            "overflow": null,
            "_model_module_version": "1.2.0",
            "_view_count": null,
            "flex_flow": null,
            "width": null,
            "min_width": null,
            "border": null,
            "align_items": null,
            "bottom": null,
            "_model_module": "@jupyter-widgets/base",
            "top": null,
            "grid_column": null,
            "overflow_y": null,
            "overflow_x": null,
            "grid_auto_flow": null,
            "grid_area": null,
            "grid_template_columns": null,
            "flex": null,
            "_model_name": "LayoutModel",
            "justify_items": null,
            "grid_row": null,
            "max_height": null,
            "align_content": null,
            "visibility": null,
            "align_self": null,
            "height": null,
            "min_height": null,
            "padding": null,
            "grid_auto_rows": null,
            "grid_gap": null,
            "max_width": null,
            "order": null,
            "_view_module_version": "1.2.0",
            "grid_template_areas": null,
            "object_position": null,
            "object_fit": null,
            "grid_auto_columns": null,
            "margin": null,
            "display": null,
            "left": null
          }
        },
        "57e497d85d6240139c0b930d1fcf7d0a": {
          "model_module": "@jupyter-widgets/controls",
          "model_name": "DescriptionStyleModel",
          "model_module_version": "1.5.0",
          "state": {
            "_view_name": "StyleView",
            "_model_name": "DescriptionStyleModel",
            "description_width": "",
            "_view_module": "@jupyter-widgets/base",
            "_model_module_version": "1.5.0",
            "_view_count": null,
            "_view_module_version": "1.2.0",
            "_model_module": "@jupyter-widgets/controls"
          }
        },
        "5995395dbd604cfcb7204be96dde92fe": {
          "model_module": "@jupyter-widgets/base",
          "model_name": "LayoutModel",
          "model_module_version": "1.2.0",
          "state": {
            "_view_name": "LayoutView",
            "grid_template_rows": null,
            "right": null,
            "justify_content": null,
            "_view_module": "@jupyter-widgets/base",
            "overflow": null,
            "_model_module_version": "1.2.0",
            "_view_count": null,
            "flex_flow": null,
            "width": null,
            "min_width": null,
            "border": null,
            "align_items": null,
            "bottom": null,
            "_model_module": "@jupyter-widgets/base",
            "top": null,
            "grid_column": null,
            "overflow_y": null,
            "overflow_x": null,
            "grid_auto_flow": null,
            "grid_area": null,
            "grid_template_columns": null,
            "flex": null,
            "_model_name": "LayoutModel",
            "justify_items": null,
            "grid_row": null,
            "max_height": null,
            "align_content": null,
            "visibility": null,
            "align_self": null,
            "height": null,
            "min_height": null,
            "padding": null,
            "grid_auto_rows": null,
            "grid_gap": null,
            "max_width": null,
            "order": null,
            "_view_module_version": "1.2.0",
            "grid_template_areas": null,
            "object_position": null,
            "object_fit": null,
            "grid_auto_columns": null,
            "margin": null,
            "display": null,
            "left": null
          }
        },
        "35b258908c1645cf823612d79601e5d9": {
          "model_module": "@jupyter-widgets/controls",
          "model_name": "HBoxModel",
          "model_module_version": "1.5.0",
          "state": {
            "_view_name": "HBoxView",
            "_dom_classes": [],
            "_model_name": "HBoxModel",
            "_view_module": "@jupyter-widgets/controls",
            "_model_module_version": "1.5.0",
            "_view_count": null,
            "_view_module_version": "1.5.0",
            "box_style": "",
            "layout": "IPY_MODEL_933faab0fa9c45728810d639d0a28bf2",
            "_model_module": "@jupyter-widgets/controls",
            "children": [
              "IPY_MODEL_8ca0c5ba413a46a38c92df3b4c9f11d9",
              "IPY_MODEL_79ee220b8795434398479c7bc8fd0196",
              "IPY_MODEL_0beff1ada4ae4118b5f9c71a46cf9423"
            ]
          }
        },
        "933faab0fa9c45728810d639d0a28bf2": {
          "model_module": "@jupyter-widgets/base",
          "model_name": "LayoutModel",
          "model_module_version": "1.2.0",
          "state": {
            "_view_name": "LayoutView",
            "grid_template_rows": null,
            "right": null,
            "justify_content": null,
            "_view_module": "@jupyter-widgets/base",
            "overflow": null,
            "_model_module_version": "1.2.0",
            "_view_count": null,
            "flex_flow": null,
            "width": null,
            "min_width": null,
            "border": null,
            "align_items": null,
            "bottom": null,
            "_model_module": "@jupyter-widgets/base",
            "top": null,
            "grid_column": null,
            "overflow_y": null,
            "overflow_x": null,
            "grid_auto_flow": null,
            "grid_area": null,
            "grid_template_columns": null,
            "flex": null,
            "_model_name": "LayoutModel",
            "justify_items": null,
            "grid_row": null,
            "max_height": null,
            "align_content": null,
            "visibility": null,
            "align_self": null,
            "height": null,
            "min_height": null,
            "padding": null,
            "grid_auto_rows": null,
            "grid_gap": null,
            "max_width": null,
            "order": null,
            "_view_module_version": "1.2.0",
            "grid_template_areas": null,
            "object_position": null,
            "object_fit": null,
            "grid_auto_columns": null,
            "margin": null,
            "display": null,
            "left": null
          }
        },
        "8ca0c5ba413a46a38c92df3b4c9f11d9": {
          "model_module": "@jupyter-widgets/controls",
          "model_name": "HTMLModel",
          "model_module_version": "1.5.0",
          "state": {
            "_view_name": "HTMLView",
            "style": "IPY_MODEL_2b246dc6ab904f7dbdf669e1dd393be2",
            "_dom_classes": [],
            "description": "",
            "_model_name": "HTMLModel",
            "placeholder": "​",
            "_view_module": "@jupyter-widgets/controls",
            "_model_module_version": "1.5.0",
            "value": "training: 100%",
            "_view_count": null,
            "_view_module_version": "1.5.0",
            "description_tooltip": null,
            "_model_module": "@jupyter-widgets/controls",
            "layout": "IPY_MODEL_6e6e178b60b54d8f837b882360e7514a"
          }
        },
        "79ee220b8795434398479c7bc8fd0196": {
          "model_module": "@jupyter-widgets/controls",
          "model_name": "FloatProgressModel",
          "model_module_version": "1.5.0",
          "state": {
            "_view_name": "ProgressView",
            "style": "IPY_MODEL_23e58aa652124d408f57650f56fc37b7",
            "_dom_classes": [],
            "description": "",
            "_model_name": "FloatProgressModel",
            "bar_style": "success",
            "max": 20,
            "_view_module": "@jupyter-widgets/controls",
            "_model_module_version": "1.5.0",
            "value": 20,
            "_view_count": null,
            "_view_module_version": "1.5.0",
            "orientation": "horizontal",
            "min": 0,
            "description_tooltip": null,
            "_model_module": "@jupyter-widgets/controls",
            "layout": "IPY_MODEL_57e6f42159be419fb60ef3e5a9a1448a"
          }
        },
        "0beff1ada4ae4118b5f9c71a46cf9423": {
          "model_module": "@jupyter-widgets/controls",
          "model_name": "HTMLModel",
          "model_module_version": "1.5.0",
          "state": {
            "_view_name": "HTMLView",
            "style": "IPY_MODEL_3362fb99e2f541cfaad1c05530623427",
            "_dom_classes": [],
            "description": "",
            "_model_name": "HTMLModel",
            "placeholder": "​",
            "_view_module": "@jupyter-widgets/controls",
            "_model_module_version": "1.5.0",
            "value": " 20/20 [1:47:59&lt;00:00, 325.73s/it, loss: 1.116044]",
            "_view_count": null,
            "_view_module_version": "1.5.0",
            "description_tooltip": null,
            "_model_module": "@jupyter-widgets/controls",
            "layout": "IPY_MODEL_afd55396b02e40a2a0a9f9b336451d80"
          }
        },
        "2b246dc6ab904f7dbdf669e1dd393be2": {
          "model_module": "@jupyter-widgets/controls",
          "model_name": "DescriptionStyleModel",
          "model_module_version": "1.5.0",
          "state": {
            "_view_name": "StyleView",
            "_model_name": "DescriptionStyleModel",
            "description_width": "",
            "_view_module": "@jupyter-widgets/base",
            "_model_module_version": "1.5.0",
            "_view_count": null,
            "_view_module_version": "1.2.0",
            "_model_module": "@jupyter-widgets/controls"
          }
        },
        "6e6e178b60b54d8f837b882360e7514a": {
          "model_module": "@jupyter-widgets/base",
          "model_name": "LayoutModel",
          "model_module_version": "1.2.0",
          "state": {
            "_view_name": "LayoutView",
            "grid_template_rows": null,
            "right": null,
            "justify_content": null,
            "_view_module": "@jupyter-widgets/base",
            "overflow": null,
            "_model_module_version": "1.2.0",
            "_view_count": null,
            "flex_flow": null,
            "width": null,
            "min_width": null,
            "border": null,
            "align_items": null,
            "bottom": null,
            "_model_module": "@jupyter-widgets/base",
            "top": null,
            "grid_column": null,
            "overflow_y": null,
            "overflow_x": null,
            "grid_auto_flow": null,
            "grid_area": null,
            "grid_template_columns": null,
            "flex": null,
            "_model_name": "LayoutModel",
            "justify_items": null,
            "grid_row": null,
            "max_height": null,
            "align_content": null,
            "visibility": null,
            "align_self": null,
            "height": null,
            "min_height": null,
            "padding": null,
            "grid_auto_rows": null,
            "grid_gap": null,
            "max_width": null,
            "order": null,
            "_view_module_version": "1.2.0",
            "grid_template_areas": null,
            "object_position": null,
            "object_fit": null,
            "grid_auto_columns": null,
            "margin": null,
            "display": null,
            "left": null
          }
        },
        "23e58aa652124d408f57650f56fc37b7": {
          "model_module": "@jupyter-widgets/controls",
          "model_name": "ProgressStyleModel",
          "model_module_version": "1.5.0",
          "state": {
            "_view_name": "StyleView",
            "_model_name": "ProgressStyleModel",
            "description_width": "",
            "_view_module": "@jupyter-widgets/base",
            "_model_module_version": "1.5.0",
            "_view_count": null,
            "_view_module_version": "1.2.0",
            "bar_color": null,
            "_model_module": "@jupyter-widgets/controls"
          }
        },
        "57e6f42159be419fb60ef3e5a9a1448a": {
          "model_module": "@jupyter-widgets/base",
          "model_name": "LayoutModel",
          "model_module_version": "1.2.0",
          "state": {
            "_view_name": "LayoutView",
            "grid_template_rows": null,
            "right": null,
            "justify_content": null,
            "_view_module": "@jupyter-widgets/base",
            "overflow": null,
            "_model_module_version": "1.2.0",
            "_view_count": null,
            "flex_flow": null,
            "width": null,
            "min_width": null,
            "border": null,
            "align_items": null,
            "bottom": null,
            "_model_module": "@jupyter-widgets/base",
            "top": null,
            "grid_column": null,
            "overflow_y": null,
            "overflow_x": null,
            "grid_auto_flow": null,
            "grid_area": null,
            "grid_template_columns": null,
            "flex": null,
            "_model_name": "LayoutModel",
            "justify_items": null,
            "grid_row": null,
            "max_height": null,
            "align_content": null,
            "visibility": null,
            "align_self": null,
            "height": null,
            "min_height": null,
            "padding": null,
            "grid_auto_rows": null,
            "grid_gap": null,
            "max_width": null,
            "order": null,
            "_view_module_version": "1.2.0",
            "grid_template_areas": null,
            "object_position": null,
            "object_fit": null,
            "grid_auto_columns": null,
            "margin": null,
            "display": null,
            "left": null
          }
        },
        "3362fb99e2f541cfaad1c05530623427": {
          "model_module": "@jupyter-widgets/controls",
          "model_name": "DescriptionStyleModel",
          "model_module_version": "1.5.0",
          "state": {
            "_view_name": "StyleView",
            "_model_name": "DescriptionStyleModel",
            "description_width": "",
            "_view_module": "@jupyter-widgets/base",
            "_model_module_version": "1.5.0",
            "_view_count": null,
            "_view_module_version": "1.2.0",
            "_model_module": "@jupyter-widgets/controls"
          }
        },
        "afd55396b02e40a2a0a9f9b336451d80": {
          "model_module": "@jupyter-widgets/base",
          "model_name": "LayoutModel",
          "model_module_version": "1.2.0",
          "state": {
            "_view_name": "LayoutView",
            "grid_template_rows": null,
            "right": null,
            "justify_content": null,
            "_view_module": "@jupyter-widgets/base",
            "overflow": null,
            "_model_module_version": "1.2.0",
            "_view_count": null,
            "flex_flow": null,
            "width": null,
            "min_width": null,
            "border": null,
            "align_items": null,
            "bottom": null,
            "_model_module": "@jupyter-widgets/base",
            "top": null,
            "grid_column": null,
            "overflow_y": null,
            "overflow_x": null,
            "grid_auto_flow": null,
            "grid_area": null,
            "grid_template_columns": null,
            "flex": null,
            "_model_name": "LayoutModel",
            "justify_items": null,
            "grid_row": null,
            "max_height": null,
            "align_content": null,
            "visibility": null,
            "align_self": null,
            "height": null,
            "min_height": null,
            "padding": null,
            "grid_auto_rows": null,
            "grid_gap": null,
            "max_width": null,
            "order": null,
            "_view_module_version": "1.2.0",
            "grid_template_areas": null,
            "object_position": null,
            "object_fit": null,
            "grid_auto_columns": null,
            "margin": null,
            "display": null,
            "left": null
          }
        },
        "a763d72b63f14d74a1c215d8e333ee63": {
          "model_module": "@jupyter-widgets/controls",
          "model_name": "HBoxModel",
          "model_module_version": "1.5.0",
          "state": {
            "_view_name": "HBoxView",
            "_dom_classes": [],
            "_model_name": "HBoxModel",
            "_view_module": "@jupyter-widgets/controls",
            "_model_module_version": "1.5.0",
            "_view_count": null,
            "_view_module_version": "1.5.0",
            "box_style": "",
            "layout": "IPY_MODEL_31c142a34e764f65accb9d3dc4a58005",
            "_model_module": "@jupyter-widgets/controls",
            "children": [
              "IPY_MODEL_b45d5536fbc44a42a58d9eecc28191d1",
              "IPY_MODEL_c7484c4ea31f43f18304722c8a33259d",
              "IPY_MODEL_801391b689964831bcee7e3c782cf6de"
            ]
          }
        },
        "31c142a34e764f65accb9d3dc4a58005": {
          "model_module": "@jupyter-widgets/base",
          "model_name": "LayoutModel",
          "model_module_version": "1.2.0",
          "state": {
            "_view_name": "LayoutView",
            "grid_template_rows": null,
            "right": null,
            "justify_content": null,
            "_view_module": "@jupyter-widgets/base",
            "overflow": null,
            "_model_module_version": "1.2.0",
            "_view_count": null,
            "flex_flow": null,
            "width": null,
            "min_width": null,
            "border": null,
            "align_items": null,
            "bottom": null,
            "_model_module": "@jupyter-widgets/base",
            "top": null,
            "grid_column": null,
            "overflow_y": null,
            "overflow_x": null,
            "grid_auto_flow": null,
            "grid_area": null,
            "grid_template_columns": null,
            "flex": null,
            "_model_name": "LayoutModel",
            "justify_items": null,
            "grid_row": null,
            "max_height": null,
            "align_content": null,
            "visibility": null,
            "align_self": null,
            "height": null,
            "min_height": null,
            "padding": null,
            "grid_auto_rows": null,
            "grid_gap": null,
            "max_width": null,
            "order": null,
            "_view_module_version": "1.2.0",
            "grid_template_areas": null,
            "object_position": null,
            "object_fit": null,
            "grid_auto_columns": null,
            "margin": null,
            "display": null,
            "left": null
          }
        },
        "b45d5536fbc44a42a58d9eecc28191d1": {
          "model_module": "@jupyter-widgets/controls",
          "model_name": "HTMLModel",
          "model_module_version": "1.5.0",
          "state": {
            "_view_name": "HTMLView",
            "style": "IPY_MODEL_10c89c61da3b412f803fa1fa75da64f7",
            "_dom_classes": [],
            "description": "",
            "_model_name": "HTMLModel",
            "placeholder": "​",
            "_view_module": "@jupyter-widgets/controls",
            "_model_module_version": "1.5.0",
            "value": "  3%",
            "_view_count": null,
            "_view_module_version": "1.5.0",
            "description_tooltip": null,
            "_model_module": "@jupyter-widgets/controls",
            "layout": "IPY_MODEL_047c3bdbb32c47259018a613711aed31"
          }
        },
        "c7484c4ea31f43f18304722c8a33259d": {
          "model_module": "@jupyter-widgets/controls",
          "model_name": "FloatProgressModel",
          "model_module_version": "1.5.0",
          "state": {
            "_view_name": "ProgressView",
            "style": "IPY_MODEL_8858124ac9ba447f82c8e77bb10e44f6",
            "_dom_classes": [],
            "description": "",
            "_model_name": "FloatProgressModel",
            "bar_style": "",
            "max": 1000,
            "_view_module": "@jupyter-widgets/controls",
            "_model_module_version": "1.5.0",
            "value": 29,
            "_view_count": null,
            "_view_module_version": "1.5.0",
            "orientation": "horizontal",
            "min": 0,
            "description_tooltip": null,
            "_model_module": "@jupyter-widgets/controls",
            "layout": "IPY_MODEL_1523962eb8d64ca58d323840cdbb6039"
          }
        },
        "801391b689964831bcee7e3c782cf6de": {
          "model_module": "@jupyter-widgets/controls",
          "model_name": "HTMLModel",
          "model_module_version": "1.5.0",
          "state": {
            "_view_name": "HTMLView",
            "style": "IPY_MODEL_ba74aa2a98c042a3b7bb406e97e7bf39",
            "_dom_classes": [],
            "description": "",
            "_model_name": "HTMLModel",
            "placeholder": "​",
            "_view_module": "@jupyter-widgets/controls",
            "_model_module_version": "1.5.0",
            "value": " 29/1000 [07:46&lt;4:16:52, 15.87s/it]",
            "_view_count": null,
            "_view_module_version": "1.5.0",
            "description_tooltip": null,
            "_model_module": "@jupyter-widgets/controls",
            "layout": "IPY_MODEL_5617226730404429871cdf2f2bd7ef5e"
          }
        },
        "10c89c61da3b412f803fa1fa75da64f7": {
          "model_module": "@jupyter-widgets/controls",
          "model_name": "DescriptionStyleModel",
          "model_module_version": "1.5.0",
          "state": {
            "_view_name": "StyleView",
            "_model_name": "DescriptionStyleModel",
            "description_width": "",
            "_view_module": "@jupyter-widgets/base",
            "_model_module_version": "1.5.0",
            "_view_count": null,
            "_view_module_version": "1.2.0",
            "_model_module": "@jupyter-widgets/controls"
          }
        },
        "047c3bdbb32c47259018a613711aed31": {
          "model_module": "@jupyter-widgets/base",
          "model_name": "LayoutModel",
          "model_module_version": "1.2.0",
          "state": {
            "_view_name": "LayoutView",
            "grid_template_rows": null,
            "right": null,
            "justify_content": null,
            "_view_module": "@jupyter-widgets/base",
            "overflow": null,
            "_model_module_version": "1.2.0",
            "_view_count": null,
            "flex_flow": null,
            "width": null,
            "min_width": null,
            "border": null,
            "align_items": null,
            "bottom": null,
            "_model_module": "@jupyter-widgets/base",
            "top": null,
            "grid_column": null,
            "overflow_y": null,
            "overflow_x": null,
            "grid_auto_flow": null,
            "grid_area": null,
            "grid_template_columns": null,
            "flex": null,
            "_model_name": "LayoutModel",
            "justify_items": null,
            "grid_row": null,
            "max_height": null,
            "align_content": null,
            "visibility": null,
            "align_self": null,
            "height": null,
            "min_height": null,
            "padding": null,
            "grid_auto_rows": null,
            "grid_gap": null,
            "max_width": null,
            "order": null,
            "_view_module_version": "1.2.0",
            "grid_template_areas": null,
            "object_position": null,
            "object_fit": null,
            "grid_auto_columns": null,
            "margin": null,
            "display": null,
            "left": null
          }
        },
        "8858124ac9ba447f82c8e77bb10e44f6": {
          "model_module": "@jupyter-widgets/controls",
          "model_name": "ProgressStyleModel",
          "model_module_version": "1.5.0",
          "state": {
            "_view_name": "StyleView",
            "_model_name": "ProgressStyleModel",
            "description_width": "",
            "_view_module": "@jupyter-widgets/base",
            "_model_module_version": "1.5.0",
            "_view_count": null,
            "_view_module_version": "1.2.0",
            "bar_color": null,
            "_model_module": "@jupyter-widgets/controls"
          }
        },
        "1523962eb8d64ca58d323840cdbb6039": {
          "model_module": "@jupyter-widgets/base",
          "model_name": "LayoutModel",
          "model_module_version": "1.2.0",
          "state": {
            "_view_name": "LayoutView",
            "grid_template_rows": null,
            "right": null,
            "justify_content": null,
            "_view_module": "@jupyter-widgets/base",
            "overflow": null,
            "_model_module_version": "1.2.0",
            "_view_count": null,
            "flex_flow": null,
            "width": null,
            "min_width": null,
            "border": null,
            "align_items": null,
            "bottom": null,
            "_model_module": "@jupyter-widgets/base",
            "top": null,
            "grid_column": null,
            "overflow_y": null,
            "overflow_x": null,
            "grid_auto_flow": null,
            "grid_area": null,
            "grid_template_columns": null,
            "flex": null,
            "_model_name": "LayoutModel",
            "justify_items": null,
            "grid_row": null,
            "max_height": null,
            "align_content": null,
            "visibility": null,
            "align_self": null,
            "height": null,
            "min_height": null,
            "padding": null,
            "grid_auto_rows": null,
            "grid_gap": null,
            "max_width": null,
            "order": null,
            "_view_module_version": "1.2.0",
            "grid_template_areas": null,
            "object_position": null,
            "object_fit": null,
            "grid_auto_columns": null,
            "margin": null,
            "display": null,
            "left": null
          }
        },
        "ba74aa2a98c042a3b7bb406e97e7bf39": {
          "model_module": "@jupyter-widgets/controls",
          "model_name": "DescriptionStyleModel",
          "model_module_version": "1.5.0",
          "state": {
            "_view_name": "StyleView",
            "_model_name": "DescriptionStyleModel",
            "description_width": "",
            "_view_module": "@jupyter-widgets/base",
            "_model_module_version": "1.5.0",
            "_view_count": null,
            "_view_module_version": "1.2.0",
            "_model_module": "@jupyter-widgets/controls"
          }
        },
        "5617226730404429871cdf2f2bd7ef5e": {
          "model_module": "@jupyter-widgets/base",
          "model_name": "LayoutModel",
          "model_module_version": "1.2.0",
          "state": {
            "_view_name": "LayoutView",
            "grid_template_rows": null,
            "right": null,
            "justify_content": null,
            "_view_module": "@jupyter-widgets/base",
            "overflow": null,
            "_model_module_version": "1.2.0",
            "_view_count": null,
            "flex_flow": null,
            "width": null,
            "min_width": null,
            "border": null,
            "align_items": null,
            "bottom": null,
            "_model_module": "@jupyter-widgets/base",
            "top": null,
            "grid_column": null,
            "overflow_y": null,
            "overflow_x": null,
            "grid_auto_flow": null,
            "grid_area": null,
            "grid_template_columns": null,
            "flex": null,
            "_model_name": "LayoutModel",
            "justify_items": null,
            "grid_row": null,
            "max_height": null,
            "align_content": null,
            "visibility": null,
            "align_self": null,
            "height": null,
            "min_height": null,
            "padding": null,
            "grid_auto_rows": null,
            "grid_gap": null,
            "max_width": null,
            "order": null,
            "_view_module_version": "1.2.0",
            "grid_template_areas": null,
            "object_position": null,
            "object_fit": null,
            "grid_auto_columns": null,
            "margin": null,
            "display": null,
            "left": null
          }
        }
      }
    }
  },
  "cells": [
    {
      "cell_type": "code",
      "metadata": {
        "id": "UwdSjPkS9Fct"
      },
      "source": [
        "WINDOW_GIVEN = 89\n",
        "WINDOW_SIZE = 90\n",
        "=========\n",
        "\n",
        "모델성능\n",
        "N_HIDDENS = 100 # perceptron수\n",
        "N_LAYERS = 3 # 레이어 층수 \n",
        "BATCH_SIZE = 512 # computing 속도.\n",
        "\n",
        "n_epochs=40\n",
        "\n",
        "early stop\n",
        "learningrate 조절\n",
        "====\n",
        "\n",
        "평가성능\n",
        "THRESHOLD = 0.060\n",
        " \n"
      ],
      "execution_count": null,
      "outputs": []
    },
    {
      "cell_type": "code",
      "metadata": {
        "id": "yg5ngaXW9145",
        "colab": {
          "base_uri": "https://localhost:8080/"
        },
        "outputId": "a9ac5b34-c6ac-4d4f-a631-bf122b08e577"
      },
      "source": [
        "from google.colab import drive\n",
        "drive.mount('/content/gdrive/')"
      ],
      "execution_count": 1,
      "outputs": [
        {
          "output_type": "stream",
          "name": "stdout",
          "text": [
            "Mounted at /content/gdrive/\n"
          ]
        }
      ]
    },
    {
      "cell_type": "code",
      "metadata": {
        "colab": {
          "base_uri": "https://localhost:8080/"
        },
        "id": "-jmxWNAf6GJ2",
        "outputId": "cae91647-403d-4252-f37a-b562af658d62"
      },
      "source": [
        "# 최종 Evaluate Package 설치\n",
        "!pip install ./gdrive/MyDrive/멋사_study/HAICon2021/HAICon2021_dataset/eTaPR-21.8.2-py3-none-any.whl"
      ],
      "execution_count": 2,
      "outputs": [
        {
          "output_type": "stream",
          "name": "stdout",
          "text": [
            "Processing ./gdrive/MyDrive/멋사_study/HAICon2021/HAICon2021_dataset/eTaPR-21.8.2-py3-none-any.whl\n",
            "Installing collected packages: eTaPR\n",
            "Successfully installed eTaPR-21.8.2\n"
          ]
        }
      ]
    },
    {
      "cell_type": "code",
      "metadata": {
        "id": "gG6RoGBu83mu"
      },
      "source": [
        "import numpy as np\n",
        "import matplotlib.pyplot as plt\n",
        "import pandas as pd\n",
        "import datetime\n",
        "import time\n",
        "import torch\n",
        "from torch.utils.data import Dataset, DataLoader\n",
        "\n",
        "from keras.models import Model, Sequential, load_model\n",
        "import keras\n",
        "from keras import optimizers\n",
        "from keras.layers import Input,Bidirectional ,LSTM, Dense, Activation\n",
        "from tensorflow.keras.callbacks import EarlyStopping, ModelCheckpoint\n",
        "from sklearn.metrics import mean_squared_error\n",
        "import tensorflow as tf\n",
        "from keras.callbacks import EarlyStopping, ModelCheckpoint\n",
        "\n",
        "import pickle\n",
        "import sys\n",
        "from pathlib import Path\n",
        "from datetime import timedelta\n",
        "import dateutil\n",
        "from tqdm.notebook import trange\n",
        "from TaPR_pkg import etapr"
      ],
      "execution_count": 3,
      "outputs": []
    },
    {
      "cell_type": "code",
      "metadata": {
        "id": "MsuAnhlWBmf4"
      },
      "source": [
        "# !pip freeze > ./gdrive/MyDrive/멋사_study/HAICon2021/requirements.txt"
      ],
      "execution_count": null,
      "outputs": []
    },
    {
      "cell_type": "code",
      "metadata": {
        "id": "F4jdPVLvTGr4"
      },
      "source": [
        "# Data Path Load\n",
        "path_train = sorted([x for x in Path(\"./gdrive/MyDrive/멋사_study/HAICon2021/HAICon2021_dataset/train\").glob(\"*.csv\")]) \n",
        "path_test = sorted([x for x in Path(\"./gdrive/MyDrive/멋사_study/HAICon2021/HAICon2021_dataset/test\").glob(\"*.csv\")]) \n",
        "path_validation = sorted([x for x in Path(\"./gdrive/MyDrive/멋사_study/HAICon2021/HAICon2021_dataset/validation\").glob(\"*.csv\")]) "
      ],
      "execution_count": 4,
      "outputs": []
    },
    {
      "cell_type": "code",
      "metadata": {
        "id": "Li86oLGLVwZN"
      },
      "source": [
        "def csv_to_df(target):\n",
        "    return pd.read_csv(target)\n",
        "\n",
        "def df_data_load(targets):\n",
        "    return pd.concat([csv_to_df(x) for x in targets])\n",
        "\n",
        "# Min-Max Regularization\n",
        "def normalize(raw):\n",
        "    ndf = raw.copy()\n",
        "    for c in raw.columns:\n",
        "        #min-max가 0인경우에는 무의미한 col으로 생각하고, 0으로 채워줌\n",
        "        if raw_train[useful_cols].min()[c] == raw_train[useful_cols].max()[c]:\n",
        "            ndf[c] = raw[c] - raw_train[useful_cols].min()[c]\n",
        "        else:\n",
        "            ndf[c] = (raw[c] - raw_train[useful_cols].min()[c]) / (raw_train[useful_cols].max()[c] - raw_train[useful_cols].min()[c])\n",
        "    return ndf"
      ],
      "execution_count": 5,
      "outputs": []
    },
    {
      "cell_type": "code",
      "metadata": {
        "id": "qmnhqoEFUBq_",
        "colab": {
          "base_uri": "https://localhost:8080/"
        },
        "outputId": "3ab391e0-1490-4454-e6c0-de78c776d224"
      },
      "source": [
        "raw_train = df_data_load(path_train) # timestamp,C01~C86\n",
        "raw_validation = df_data_load(path_validation) # timestamp,C01~C86, attack\n",
        "raw_test = df_data_load(path_test) # timestamp,C01~C86\n",
        "\n",
        "# time stamp는 attack event와 관련이 없는 관계로 삭제한다.\n",
        "# time stamp는 normalize 시에 에러 발생\n",
        "\n",
        "useful_cols = raw_train.columns.drop('timestamp')\n",
        "useful_cols"
      ],
      "execution_count": 6,
      "outputs": [
        {
          "output_type": "execute_result",
          "data": {
            "text/plain": [
              "Index(['C01', 'C02', 'C03', 'C04', 'C05', 'C06', 'C07', 'C08', 'C09', 'C10',\n",
              "       'C11', 'C12', 'C13', 'C14', 'C15', 'C16', 'C17', 'C18', 'C19', 'C20',\n",
              "       'C21', 'C22', 'C23', 'C24', 'C25', 'C26', 'C27', 'C28', 'C29', 'C30',\n",
              "       'C31', 'C32', 'C33', 'C34', 'C35', 'C36', 'C37', 'C38', 'C39', 'C40',\n",
              "       'C41', 'C42', 'C43', 'C44', 'C45', 'C46', 'C47', 'C48', 'C49', 'C50',\n",
              "       'C51', 'C52', 'C53', 'C54', 'C55', 'C56', 'C57', 'C58', 'C59', 'C60',\n",
              "       'C61', 'C62', 'C63', 'C64', 'C65', 'C66', 'C67', 'C68', 'C69', 'C70',\n",
              "       'C71', 'C72', 'C73', 'C74', 'C75', 'C76', 'C77', 'C78', 'C79', 'C80',\n",
              "       'C81', 'C82', 'C83', 'C84', 'C85', 'C86'],\n",
              "      dtype='object')"
            ]
          },
          "metadata": {},
          "execution_count": 6
        }
      ]
    },
    {
      "cell_type": "code",
      "metadata": {
        "id": "_g6o255uqOPN"
      },
      "source": [
        ""
      ],
      "execution_count": null,
      "outputs": []
    },
    {
      "cell_type": "markdown",
      "metadata": {
        "id": "hPySoON82ALf"
      },
      "source": [
        "z-score vs min-max algorithm <br>\n",
        "outlier검출 (z-score) <br>\n",
        "모든 데이터의 중요도를 동일하게(min-max)"
      ]
    },
    {
      "cell_type": "code",
      "metadata": {
        "id": "697PmM_0a_8M"
      },
      "source": [
        "# # Exponential Weighted Function 통과\n",
        "# # 센서에서 발생하는 noise를 **smoothing** 시켜주기 위해 적용\n",
        "# df_train= normalize(raw_train[useful_cols]).ewm(alpha=0.9).mean()"
      ],
      "execution_count": null,
      "outputs": []
    },
    {
      "cell_type": "code",
      "metadata": {
        "id": "4ggbVpf-xxgi"
      },
      "source": [
        "# df_validation = normalize(raw_validation[useful_cols])"
      ],
      "execution_count": null,
      "outputs": []
    },
    {
      "cell_type": "code",
      "metadata": {
        "id": "ZYAs45QJxqZ2"
      },
      "source": [
        "# df_test= normalize(raw_test[useful_cols]).ewm(alpha=0.9).mean()"
      ],
      "execution_count": null,
      "outputs": []
    },
    {
      "cell_type": "code",
      "metadata": {
        "id": "kdJQuohnwejV"
      },
      "source": [
        "# df_train.to_pickle(\"/content/gdrive/MyDrive/멋사_study/HAICon2021/df_train.pickle\")\n",
        "# df_validation.to_pickle(\"/content/gdrive/MyDrive/멋사_study/HAICon2021/df_validation.pickle\")\n",
        "# df_test.to_pickle(\"/content/gdrive/MyDrive/멋사_study/HAICon2021/df_test.pickle\")"
      ],
      "execution_count": null,
      "outputs": []
    },
    {
      "cell_type": "markdown",
      "metadata": {
        "id": "AeEGP9UAy61h"
      },
      "source": [
        "# normalize 완료된 df 불러오기"
      ]
    },
    {
      "cell_type": "code",
      "metadata": {
        "id": "y1K-zdlFyB-E"
      },
      "source": [
        "# normalize 완료된 df 불러오기\n",
        "df_train = pd.read_pickle(\"/content/gdrive/MyDrive/멋사_study/HAICon2021/df_train.pickle\")\n",
        "df_validation = pd.read_pickle(\"/content/gdrive/MyDrive/멋사_study/HAICon2021/df_validation.pickle\")\n",
        "df_test = pd.read_pickle(\"/content/gdrive/MyDrive/멋사_study/HAICon2021/df_test.pickle\")\n"
      ],
      "execution_count": 7,
      "outputs": []
    },
    {
      "cell_type": "code",
      "metadata": {
        "id": "4NlesCazhqcY"
      },
      "source": [
        "# min_max reg를 진행하고, boundary인 [0,1] 이외의 값이 존재하는지 체크하는 함수\n",
        "# Reguralizaion 제대로 됐는지 체크\n",
        "def boundary_check(df):\n",
        "    x = np.array(df, dtype=np.float32)\n",
        "    return np.any(x > 1.0), np.any(x < 0), np.any(np.isnan(x))"
      ],
      "execution_count": 8,
      "outputs": []
    },
    {
      "cell_type": "code",
      "metadata": {
        "colab": {
          "base_uri": "https://localhost:8080/"
        },
        "id": "te6LRhEdDXnD",
        "outputId": "438f66cd-e33a-4653-fcdd-10b8b283da9b"
      },
      "source": [
        "print(boundary_check(df_train))\n",
        "print(boundary_check(df_validation))\n",
        "print(boundary_check(df_test))"
      ],
      "execution_count": null,
      "outputs": [
        {
          "output_type": "stream",
          "name": "stdout",
          "text": [
            "(False, False, False)\n",
            "(True, True, False)\n",
            "(True, True, False)\n"
          ]
        }
      ]
    },
    {
      "cell_type": "markdown",
      "metadata": {
        "id": "20PvUOeKAfK8"
      },
      "source": [
        "# HaiDataset 저장/불러오기"
      ]
    },
    {
      "cell_type": "code",
      "metadata": {
        "id": "nb77wFR3EAUR"
      },
      "source": [
        "# Model의 출력값과 실제 값의 차이가 클 때 이상상황으로 정의\n",
        "# Stacked RNN(GRU cells)\n",
        "# Unsupervised Learning\n",
        "# shingle size = 90\n",
        "\n",
        "WINDOW_GIVEN = 69\n",
        "WINDOW_SIZE = 70\n",
        "\n",
        "\n",
        "\n",
        "class HaiDataset(Dataset): # pytorch의 Dataset class 활용\n",
        "    def __init__(self, timestamps, df, stride=1, attacks=None):\n",
        "        self.ts = np.array(timestamps)\n",
        "        self.tag_values = np.array(df, dtype=np.float32) # dataset을 array로 바꾼거.\n",
        "        self.valid_idxs = []\n",
        "        for L in trange(len(self.ts) - WINDOW_SIZE + 1): # L 1번째,  100번째 ts 9461번째\n",
        "            R = L + WINDOW_SIZE - 1 # R 60번째, 159번째. 10000번째.\n",
        "            if dateutil.parser.parse(self.ts[R]) - dateutil.parser.parse( # 60번째-1번째 = 59 . 이게 윈도우사이즈 크기와 동일한지 점검하는 조건\n",
        "                self.ts[L]\n",
        "            ) == timedelta(seconds=WINDOW_SIZE - 1):\n",
        "                self.valid_idxs.append(L) # valid idx에 L시점의 ts를 쭉 저장. 1~9461 저장(리스트형태로)\n",
        "        self.valid_idxs = np.array(self.valid_idxs, dtype=np.int32)[::stride] # valid idx array 형태로 바꿔주기\n",
        "        self.n_idxs = len(self.valid_idxs) # n_idxs 는 갯수.\n",
        "        print(f\"# of valid windows: {self.n_idxs}\")\n",
        "        if attacks is not None:\n",
        "            self.attacks = np.array(attacks, dtype=np.float32) # attack이 있으면 self.attacks함수에 Attack 표시나게하고\n",
        "            self.with_attack = True # with_attack함수로 boolean 검증\n",
        "        else:\n",
        "            self.with_attack = False\n",
        "\n",
        "    def __len__(self):\n",
        "        return self.n_idxs # n_idxs WIndow에서 왼쪽 bounday가 될 수 있는 ts 갯수.\n",
        "\n",
        "    def __getitem__(self, idx): ## slicing을 구현하기 위한 메소드\n",
        "        i = self.valid_idxs[idx] # Left boundary\n",
        "        last = i + WINDOW_SIZE - 1 # Right boundary\n",
        "        item = {\"attack\": self.attacks[last]} if self.with_attack else {} # with_attack이 true면 item에 attack 표기 (right boundary기준)\n",
        "        item[\"ts\"] = self.ts[i + WINDOW_SIZE - 1]\n",
        "        item[\"given\"] = torch.from_numpy(self.tag_values[i : i + WINDOW_GIVEN]) # left boundary부터, right bounday까지, 80개의 window boundary안에있는 모든 데이터 값.\n",
        "        item[\"answer\"] = torch.from_numpy(self.tag_values[last]) # given의 마지막 row 는 그 이전 스텝의 answer의 값과 동일하다.\n",
        "        return item"
      ],
      "execution_count": 11,
      "outputs": []
    },
    {
      "cell_type": "code",
      "metadata": {
        "colab": {
          "base_uri": "https://localhost:8080/",
          "height": 167,
          "referenced_widgets": [
            "b3e013beff01494fa3054b89f0796244",
            "64fa21ac6c4a442baeb56e01596f0382",
            "97facba1c9de4ff7a22df40a8c75a87d",
            "dbd4bc7a0b7243758250a3fc8bb573ec",
            "72e0422af86447bb8447b15a2eda1b6b",
            "1dfc6f7564e2456b96737534c6fb3d04",
            "ebd8bea6adea4507b54602553761f351",
            "706792d23bd3424baf4a35258d9c6f08",
            "edaaa37189f348f1801e73a0310b93d2",
            "d17b93be169f449fbbc6272c910a7cfd",
            "37ed63178054464ea2003150977889d1",
            "f0cc131cc92242c88e95cbed18bf2dd8",
            "f3f8c54b548b42cebb2a600034f60560",
            "b8214874ff0b4573bc1d5469987d9daf",
            "87b1d6a403614864ba54b0018b36e163",
            "21ac4c5d28004d67be1502c409db2b7e",
            "31818bf1b62c4092962ce66a1dd8df02",
            "3e11bd2ca46841e9839d76bf375894d5",
            "7292d86343a049fe94ea2dd22c447ac9",
            "83301820c3934e0cb4486e9c7efbf299",
            "7d174fbb40c44f10bcce70ca571cb4be",
            "0149ec3fe1284793842da7bac185b68d",
            "bc2deac2cef14159b2abf873f1bb478c",
            "cf12809f925f4fba8dc8d7a9d6d9007c",
            "74aa82ad69d84ada8e21f7e9ef8738fd",
            "e4dda293d5dc4389a59e2f15edf4b1b7",
            "67d2df53d906461e8926a0690f04da59",
            "6020f64425834bc085f75c9147fa73e4",
            "dd788f8094b348f99650de1168f66cf0",
            "f17555785916410eb2f9e92192a113f3",
            "03a147552a56423498018f904ca75035",
            "57e497d85d6240139c0b930d1fcf7d0a",
            "5995395dbd604cfcb7204be96dde92fe"
          ]
        },
        "id": "sOBeCtaXGOwf",
        "outputId": "48377d93-4d93-4869-ea22-85a333b978aa"
      },
      "source": [
        "# train_data = HaiDataset(raw_train['timestamp'],df_train, stride=1)\n",
        "# validation_data = HaiDataset(raw_validation['timestamp'],df_validation, stride=1)\n",
        "# test_data = HaiDataset(raw_test['timestamp'],df_test, stride=1)"
      ],
      "execution_count": null,
      "outputs": [
        {
          "output_type": "display_data",
          "data": {
            "application/vnd.jupyter.widget-view+json": {
              "model_id": "b3e013beff01494fa3054b89f0796244",
              "version_minor": 0,
              "version_major": 2
            },
            "text/plain": [
              "  0%|          | 0/1004303 [00:00<?, ?it/s]"
            ]
          },
          "metadata": {}
        },
        {
          "output_type": "stream",
          "name": "stdout",
          "text": [
            "# of valid windows: 1003808\n"
          ]
        },
        {
          "output_type": "display_data",
          "data": {
            "application/vnd.jupyter.widget-view+json": {
              "model_id": "f0cc131cc92242c88e95cbed18bf2dd8",
              "version_minor": 0,
              "version_major": 2
            },
            "text/plain": [
              "  0%|          | 0/86301 [00:00<?, ?it/s]"
            ]
          },
          "metadata": {}
        },
        {
          "output_type": "stream",
          "name": "stdout",
          "text": [
            "# of valid windows: 86301\n"
          ]
        },
        {
          "output_type": "display_data",
          "data": {
            "application/vnd.jupyter.widget-view+json": {
              "model_id": "bc2deac2cef14159b2abf873f1bb478c",
              "version_minor": 0,
              "version_major": 2
            },
            "text/plain": [
              "  0%|          | 0/274701 [00:00<?, ?it/s]"
            ]
          },
          "metadata": {}
        },
        {
          "output_type": "stream",
          "name": "stdout",
          "text": [
            "# of valid windows: 274503\n"
          ]
        }
      ]
    },
    {
      "cell_type": "code",
      "metadata": {
        "id": "U0ywwxI4_O9v"
      },
      "source": [
        "# import pickle\n",
        "# # # HaiDataset 저장\n",
        "# with open( \"/content/gdrive/MyDrive/멋사_study/HAICon2021/HaiDataset/train_data_{}\".format(WINDOW_SIZE), \"wb\" ) as file:\n",
        "#     pickle.dump( train_data, file)\n",
        "# with open( \"/content/gdrive/MyDrive/멋사_study/HAICon2021/HaiDataset/validation_data_{}\".format(WINDOW_SIZE), \"wb\" ) as file:\n",
        "#     pickle.dump( validation_data, file)\n",
        "# with open( \"/content/gdrive/MyDrive/멋사_study/HAICon2021/HaiDataset/test_data_{}\".format(WINDOW_SIZE), \"wb\" ) as file:\n",
        "#     pickle.dump( test_data, file)\n",
        "\n",
        "# HaiDataset 불러오기\n",
        "with open( \"/content/gdrive/MyDrive/멋사_study/HAICon2021/HaiDataset/train_data_{}\".format(WINDOW_SIZE), \"rb\" ) as file:\n",
        "    train_data = pickle.load(file)\n",
        "\n",
        "with open( \"/content/gdrive/MyDrive/멋사_study/HAICon2021/HaiDataset/validation_data_{}\".format(WINDOW_SIZE), \"rb\" ) as file:\n",
        "    validation_data = pickle.load(file)\n",
        "\n",
        "with open( \"/content/gdrive/MyDrive/멋사_study/HAICon2021/HaiDataset/test_data_{}\".format(WINDOW_SIZE), \"rb\" ) as file:\n",
        "    test_data = pickle.load(file)"
      ],
      "execution_count": 13,
      "outputs": []
    },
    {
      "cell_type": "markdown",
      "metadata": {
        "id": "9kRKGcu4A_qN"
      },
      "source": [
        "## 모델링 시작"
      ]
    },
    {
      "cell_type": "code",
      "metadata": {
        "id": "OVWah2BBXTLC"
      },
      "source": [
        "N_HIDDENS = 256 # perceptron수\n",
        "N_LAYERS = 3\n",
        "BATCH_SIZE = 256\n",
        "\n",
        "class StackedGRU(torch.nn.Module):\n",
        "    def __init__(self, n_tags):\n",
        "        super().__init__() # torch.nn.Module에 담겨있는 함수를 사용하겠다.\n",
        "        self.rnn = torch.nn.GRU(\n",
        "            input_size=n_tags,\n",
        "            hidden_size=N_HIDDENS,# perceptron수\n",
        "            num_layers=N_LAYERS,\n",
        "            bidirectional=True, #양방향으로 할지 말지 forward + backward 두번씩 하니까 feature가 두배로 변함\n",
        "            dropout=0,\n",
        "        )\n",
        "        self.fc = torch.nn.Linear(N_HIDDENS * 2, n_tags)\n",
        "\n",
        "    def forward(self, x):\n",
        "        x = x.transpose(0, 1)  # (batch, seq, params) -> (seq, batch, params)\n",
        "        self.rnn.flatten_parameters()\n",
        "        outs, _ = self.rnn(x)\n",
        "        out = self.fc(outs[-1])\n",
        "        return x[0] + out"
      ],
      "execution_count": 20,
      "outputs": []
    },
    {
      "cell_type": "code",
      "metadata": {
        "colab": {
          "base_uri": "https://localhost:8080/"
        },
        "id": "lpgGjOMdtdkp",
        "outputId": "ac2c2769-e6f9-4068-c93b-28cc9ff18bfc"
      },
      "source": [
        "MODEL = StackedGRU(n_tags=df_train.shape[1]) # input사이즈를 train data columns수로 하겠다는뜻\n",
        "MODEL.cuda() # GPU 메모리 할당"
      ],
      "execution_count": 15,
      "outputs": [
        {
          "output_type": "execute_result",
          "data": {
            "text/plain": [
              "StackedGRU(\n",
              "  (rnn): GRU(86, 256, num_layers=3, bidirectional=True)\n",
              "  (fc): Linear(in_features=512, out_features=86, bias=True)\n",
              ")"
            ]
          },
          "metadata": {},
          "execution_count": 15
        }
      ]
    },
    {
      "cell_type": "code",
      "metadata": {
        "id": "hTd31JEXviEg"
      },
      "source": [
        "def train(dataset, model, batch_size, n_epochs):\n",
        "    dataloader = DataLoader(dataset, batch_size=batch_size, shuffle=True) # Dataloader는 Mini Batch만들어 주는 역할. # 전체 데이터가 mini batch Size로 슬라이스됨. \n",
        "    optimizer = torch.optim.AdamW(model.parameters()) # AdamW를 Optimizer로 선언\n",
        "    loss_fn = torch.nn.MSELoss() #MSE로 Loss function 설정\n",
        "    epochs = trange(n_epochs, desc=\"training\")\n",
        "    best = {\"loss\": sys.float_info.max} # float으로 설정할 수 있는 값중 최대값 지정\n",
        "    loss_history = []\n",
        "    for e in epochs:\n",
        "        epoch_loss = 0\n",
        "        for batch in dataloader:\n",
        "            optimizer.zero_grad()\n",
        "            given = batch[\"given\"].cuda()\n",
        "            guess = model(given)\n",
        "            answer = batch[\"answer\"].cuda()\n",
        "            loss = loss_fn(answer, guess)\n",
        "            loss.backward()\n",
        "            epoch_loss += loss.item()\n",
        "            optimizer.step()\n",
        "        loss_history.append(epoch_loss)\n",
        "        epochs.set_postfix_str(f\"loss: {epoch_loss:.6f}\")\n",
        "        if epoch_loss < best[\"loss\"]:\n",
        "            best[\"state\"] = model.state_dict()\n",
        "            best[\"loss\"] = epoch_loss\n",
        "            best[\"epoch\"] = e + 1\n",
        "    return best, loss_history"
      ],
      "execution_count": 16,
      "outputs": []
    },
    {
      "cell_type": "code",
      "metadata": {
        "colab": {
          "base_uri": "https://localhost:8080/",
          "height": 85,
          "referenced_widgets": [
            "35b258908c1645cf823612d79601e5d9",
            "933faab0fa9c45728810d639d0a28bf2",
            "8ca0c5ba413a46a38c92df3b4c9f11d9",
            "79ee220b8795434398479c7bc8fd0196",
            "0beff1ada4ae4118b5f9c71a46cf9423",
            "2b246dc6ab904f7dbdf669e1dd393be2",
            "6e6e178b60b54d8f837b882360e7514a",
            "23e58aa652124d408f57650f56fc37b7",
            "57e6f42159be419fb60ef3e5a9a1448a",
            "3362fb99e2f541cfaad1c05530623427",
            "afd55396b02e40a2a0a9f9b336451d80"
          ]
        },
        "id": "OO39vFC7v2TH",
        "outputId": "27c4bdb9-746c-45b2-bf82-da3d37e5490f"
      },
      "source": [
        "%%time\n",
        "n_epochs = 20\n",
        "MODEL.train()\n",
        "BEST_MODEL, LOSS_HISTORY = train(train_data, MODEL, BATCH_SIZE,n_epochs=n_epochs)"
      ],
      "execution_count": null,
      "outputs": [
        {
          "output_type": "display_data",
          "data": {
            "application/vnd.jupyter.widget-view+json": {
              "model_id": "35b258908c1645cf823612d79601e5d9",
              "version_minor": 0,
              "version_major": 2
            },
            "text/plain": [
              "training:   0%|          | 0/20 [00:00<?, ?it/s]"
            ]
          },
          "metadata": {}
        },
        {
          "output_type": "stream",
          "name": "stdout",
          "text": [
            "CPU times: user 1h 47min 29s, sys: 46 s, total: 1h 48min 15s\n",
            "Wall time: 1h 47min 59s\n"
          ]
        }
      ]
    },
    {
      "cell_type": "markdown",
      "metadata": {
        "id": "0oe-YWMgzl9u"
      },
      "source": [
        "### 모델저장 , 불러오기"
      ]
    },
    {
      "cell_type": "code",
      "metadata": {
        "id": "HRiIJjcSY-ba"
      },
      "source": [
        "with open(\"/content/gdrive/MyDrive/멋사_study/HAICon2021/model/model_W{}_B{}_P{}_D{}_E{}.pt\".format(WINDOW_SIZE,BATCH_SIZE,N_HIDDENS,N_LAYERS,n_epochs), \"wb\") as f:\n",
        "    torch.save(\n",
        "        {\n",
        "            \"state\": BEST_MODEL[\"state\"],\n",
        "            \"best_epoch\": BEST_MODEL[\"epoch\"],\n",
        "            \"loss_history\": LOSS_HISTORY,\n",
        "        },\n",
        "        f,\n",
        "    )"
      ],
      "execution_count": null,
      "outputs": []
    },
    {
      "cell_type": "code",
      "metadata": {
        "id": "2AwzjmmuXuB0"
      },
      "source": [
        "n_epochs = 20"
      ],
      "execution_count": 18,
      "outputs": []
    },
    {
      "cell_type": "code",
      "metadata": {
        "id": "Ch4YGJE2ZTtD",
        "colab": {
          "base_uri": "https://localhost:8080/"
        },
        "outputId": "74ab38de-0bb1-4c57-88ab-40b242bf219f"
      },
      "source": [
        "with open(\"/content/gdrive/MyDrive/멋사_study/HAICon2021/model/model_W{}_B{}_P{}_D{}_E{}.pt\".format(WINDOW_SIZE,BATCH_SIZE,N_HIDDENS,N_LAYERS,n_epochs), \"rb\") as f:\n",
        "    SAVED_MODEL = torch.load(f)\n",
        "\n",
        "MODEL.load_state_dict(SAVED_MODEL[\"state\"])\n",
        "\n",
        "\n",
        "# 변수명 SAVED_MODEL"
      ],
      "execution_count": 24,
      "outputs": [
        {
          "output_type": "execute_result",
          "data": {
            "text/plain": [
              "<All keys matched successfully>"
            ]
          },
          "metadata": {},
          "execution_count": 24
        }
      ]
    },
    {
      "cell_type": "code",
      "metadata": {
        "colab": {
          "base_uri": "https://localhost:8080/"
        },
        "id": "GRm8OtWSXwU9",
        "outputId": "c506e4c7-5f9e-44dd-afd5-52f8b34c6209"
      },
      "source": [
        "SAVED_MODEL[\"best_epoch\"]"
      ],
      "execution_count": 25,
      "outputs": [
        {
          "output_type": "execute_result",
          "data": {
            "text/plain": [
              "19"
            ]
          },
          "metadata": {},
          "execution_count": 25
        }
      ]
    },
    {
      "cell_type": "code",
      "metadata": {
        "colab": {
          "base_uri": "https://localhost:8080/"
        },
        "id": "El8-H6LJafOd",
        "outputId": "3ae4e70c-f807-4d48-d1ae-21311a88c3b2"
      },
      "source": [
        "SAVED_MODEL[\"loss_history\"]"
      ],
      "execution_count": 26,
      "outputs": [
        {
          "output_type": "execute_result",
          "data": {
            "text/plain": [
              "[1.107466407596803,\n",
              " 0.34517206792588695,\n",
              " 0.16107421820015588,\n",
              " 0.8119531502670725,\n",
              " 0.09677345503587276,\n",
              " 0.6178208239725791,\n",
              " 0.08313459785586019,\n",
              " 0.3451562927193663,\n",
              " 0.26658513627262437,\n",
              " 0.06114206928305066,\n",
              " 0.9096859036189926,\n",
              " 0.08276454537281097,\n",
              " 0.0635667720625861,\n",
              " 0.48064073519526573,\n",
              " 0.0830879379527687,\n",
              " 0.15741978357527842,\n",
              " 0.08964783569899737,\n",
              " 0.1488201099723483,\n",
              " 0.0398474426087887,\n",
              " 0.2312768835386123]"
            ]
          },
          "metadata": {},
          "execution_count": 26
        }
      ]
    },
    {
      "cell_type": "code",
      "metadata": {
        "colab": {
          "base_uri": "https://localhost:8080/",
          "height": 295
        },
        "id": "A_hsmdEitgWt",
        "outputId": "bed87680-79cf-4edc-f42d-fa0d81fe2af3"
      },
      "source": [
        "plt.figure(figsize=(16, 4))\n",
        "plt.title(\"Training Loss Graph\")\n",
        "plt.xlabel(\"epochs\")\n",
        "plt.ylabel(\"loss\")\n",
        "plt.yscale(\"log\")\n",
        "plt.plot(SAVED_MODEL[\"loss_history\"])\n",
        "plt.show()"
      ],
      "execution_count": null,
      "outputs": [
        {
          "output_type": "display_data",
          "data": {
            "image/png": "[encoded data removed]",
            "text/plain": [
              "<Figure size 1152x288 with 1 Axes>"
            ]
          },
          "metadata": {
            "needs_background": "light"
          }
        }
      ]
    },
    {
      "cell_type": "code",
      "metadata": {
        "id": "s8dr_JO1xcN6"
      },
      "source": [
        "def inference(dataset, model, batch_size): # ????????????????????????????????????\n",
        "    dataloader = DataLoader(dataset, batch_size=batch_size)\n",
        "    ts, dist, att = [], [], []\n",
        "    with torch.no_grad():\n",
        "        for batch in dataloader:\n",
        "            given = batch[\"given\"].cuda()\n",
        "            answer = batch[\"answer\"].cuda()\n",
        "            guess = model(given)\n",
        "            ts.append(np.array(batch[\"ts\"]))\n",
        "            dist.append(torch.abs(answer - guess).cpu().numpy()) # 예측값과 정답값의 차이를 기록\n",
        "            try:\n",
        "                att.append(np.array(batch[\"attack\"]))\n",
        "            except:\n",
        "                att.append(np.zeros(batch_size))\n",
        "            \n",
        "    return (\n",
        "        np.concatenate(ts),\n",
        "        np.concatenate(dist),\n",
        "        np.concatenate(att),\n",
        "    )\n",
        "   "
      ],
      "execution_count": 27,
      "outputs": []
    },
    {
      "cell_type": "code",
      "metadata": {
        "id": "5g1iie3kxvyV",
        "colab": {
          "base_uri": "https://localhost:8080/"
        },
        "outputId": "b4714d48-f2f9-419a-e885-ba81df54d069"
      },
      "source": [
        "%%time\n",
        "MODEL.eval() # nn.Module에서 train time과 eval time에서 수행하는 다른 작업을 수행할 수 있도록 switching 하는 함수라고 한다.\n",
        "valid_CHECK_TS, valid_CHECK_DIST, valid_CHECK_ATT = inference(validation_data, MODEL, BATCH_SIZE)\n",
        "# CHECK_DIST = 모든 시간대에서 전체 feature(field) 차이"
      ],
      "execution_count": 28,
      "outputs": [
        {
          "output_type": "stream",
          "name": "stdout",
          "text": [
            "CPU times: user 24.1 s, sys: 92.2 ms, total: 24.2 s\n",
            "Wall time: 24.2 s\n"
          ]
        }
      ]
    },
    {
      "cell_type": "code",
      "metadata": {
        "colab": {
          "base_uri": "https://localhost:8080/"
        },
        "id": "Z-SnDn8Hq4TS",
        "outputId": "b283bc35-723e-4e9c-bb87-dcdf422306d5"
      },
      "source": [
        "valid_ANOMALY_SCORE = np.mean(valid_CHECK_DIST, axis=1)\n",
        "# 그 차이의 평균을 스코어 지수로 표현\n",
        "valid_ANOMALY_SCORE.mean()"
      ],
      "execution_count": 29,
      "outputs": [
        {
          "output_type": "execute_result",
          "data": {
            "text/plain": [
              "0.04938633"
            ]
          },
          "metadata": {},
          "execution_count": 29
        }
      ]
    },
    {
      "cell_type": "code",
      "metadata": {
        "id": "BfHGD3ZTy-ms"
      },
      "source": [
        "def check_graph(xs, att, piece=2, THRESHOLD=None):# plot은 몇개 plot으로 그림 그려줄지 정하는거\n",
        "    l = xs.shape[0]\n",
        "    chunk = l // piece\n",
        "    fig, axs = plt.subplots(piece, figsize=(20, 4 * piece))\n",
        "    for i in range(piece):\n",
        "        L = i * chunk\n",
        "        R = min(L + chunk, l)\n",
        "        xticks = range(L, R)\n",
        "        axs[i].plot(xticks, xs[L:R])\n",
        "        if len(xs[L:R]) > 0:\n",
        "            peak = max(xs[L:R])\n",
        "            axs[i].plot(xticks, att[L:R] * peak * 0.3)\n",
        "        if THRESHOLD!=None:\n",
        "            axs[i].axhline(y=THRESHOLD, color='r')\n",
        "    plt.show()"
      ],
      "execution_count": 30,
      "outputs": []
    },
    {
      "cell_type": "code",
      "metadata": {
        "id": "Dp-M0B-nzMwW",
        "colab": {
          "base_uri": "https://localhost:8080/",
          "height": 918
        },
        "outputId": "336e15ce-ca04-41b7-aacf-c89c3220d6a1"
      },
      "source": [
        "THRESHOLD = 0.10\n",
        "check_graph(valid_ANOMALY_SCORE, valid_CHECK_ATT, piece=4, THRESHOLD=THRESHOLD)\n",
        "# Threshold는 얼마로 지정할지 생각해봐야할듯 해당 수치 넘으면 공격, 아니면 정상\n",
        "# 주황색 그래프와 빨간색 그래프의 차이를 좁혀나가면서 Threshold를 정해주면됨"
      ],
      "execution_count": 33,
      "outputs": [
        {
          "output_type": "display_data",
          "data": {
            "image/png": "[encoded data removed]",
            "text/plain": [
              "<Figure size 1440x1152 with 4 Axes>"
            ]
          },
          "metadata": {
            "needs_background": "light"
          }
        }
      ]
    },
    {
      "cell_type": "code",
      "metadata": {
        "id": "NUC3YIFpzSVp"
      },
      "source": [
        "def put_labels(distance, threshold):\n",
        "    xs = np.zeros_like(distance)\n",
        "    xs[distance > threshold] = 1\n",
        "    return xs\n",
        "\n",
        "    #Threshold보다 distance가 크면 Attack 으로 간주하는 식"
      ],
      "execution_count": 34,
      "outputs": []
    },
    {
      "cell_type": "code",
      "metadata": {
        "colab": {
          "base_uri": "https://localhost:8080/"
        },
        "id": "Yx4Mc5jEwgPb",
        "outputId": "729995b9-319b-403f-9ec2-1d86ec9ca8d4"
      },
      "source": [
        "LABELS = put_labels(valid_ANOMALY_SCORE, THRESHOLD)\n",
        "LABELS, LABELS.shape\n",
        "\n",
        "ATTACK_LABELS = put_labels(np.array(raw_validation['attack']), threshold=THRESHOLD)\n",
        "ATTACK_LABELS, ATTACK_LABELS.shape"
      ],
      "execution_count": 35,
      "outputs": [
        {
          "output_type": "execute_result",
          "data": {
            "text/plain": [
              "(array([0, 0, 0, ..., 0, 0, 0]), (86400,))"
            ]
          },
          "metadata": {},
          "execution_count": 35
        }
      ]
    },
    {
      "cell_type": "code",
      "metadata": {
        "id": "1M535PlH1K1y"
      },
      "source": [
        "# 탐지 모델 - 윈도우 방식\n",
        "\n",
        "# 첫 시작의 몇 초는 판단을 내릴 수 없고 (예전 MA 식 만든거 생각해보면됨)\n",
        "# 데이터셋 불연속 시간 구간 체크 어려움\n",
        "# 위에서 보시는 바와 같이 정답에 비해 얻어낸 label의 수가 적습니다.\n",
        "\n"
      ],
      "execution_count": null,
      "outputs": []
    },
    {
      "cell_type": "code",
      "metadata": {
        "id": "lYOFX2XBz-Xw"
      },
      "source": [
        "#정상은 0 비정상 1\n",
        "def fill_blank(check_ts, labels, total_ts):\n",
        "    def ts_generator():\n",
        "        for t in total_ts:\n",
        "            yield dateutil.parser.parse(t)\n",
        "\n",
        "    def label_generator():\n",
        "        for t, label in zip(check_ts, labels):\n",
        "            yield dateutil.parser.parse(t), label\n",
        "\n",
        "    g_ts = ts_generator()\n",
        "    g_label = label_generator()\n",
        "    final_labels = []\n",
        "\n",
        "    try:\n",
        "        current = next(g_ts)\n",
        "        ts_label, label = next(g_label)\n",
        "        while True:\n",
        "            if current > ts_label:\n",
        "                ts_label, label = next(g_label)\n",
        "                continue\n",
        "            elif current < ts_label:\n",
        "                final_labels.append(0)\n",
        "                current = next(g_ts)\n",
        "                continue\n",
        "            final_labels.append(label)\n",
        "            current = next(g_ts)\n",
        "            ts_label, label = next(g_label)\n",
        "    except StopIteration:\n",
        "        return np.array(final_labels, dtype=np.int8)"
      ],
      "execution_count": 36,
      "outputs": []
    },
    {
      "cell_type": "code",
      "metadata": {
        "colab": {
          "base_uri": "https://localhost:8080/",
          "height": 576,
          "referenced_widgets": [
            "a763d72b63f14d74a1c215d8e333ee63",
            "31c142a34e764f65accb9d3dc4a58005",
            "b45d5536fbc44a42a58d9eecc28191d1",
            "c7484c4ea31f43f18304722c8a33259d",
            "801391b689964831bcee7e3c782cf6de",
            "10c89c61da3b412f803fa1fa75da64f7",
            "047c3bdbb32c47259018a613711aed31",
            "8858124ac9ba447f82c8e77bb10e44f6",
            "1523962eb8d64ca58d323840cdbb6039",
            "ba74aa2a98c042a3b7bb406e97e7bf39",
            "5617226730404429871cdf2f2bd7ef5e"
          ]
        },
        "id": "RpvstlZU8Omd",
        "outputId": "90901bb0-6abf-4ae3-ef2a-08fee45a8413"
      },
      "source": [
        "for i in trange(1000):\n",
        "  THRESHOLD = 0.05+i*0.005\n",
        "  LABELS = put_labels(valid_ANOMALY_SCORE, THRESHOLD)\n",
        "  ATTACK_LABELS = put_labels(np.array(raw_validation['attack']), threshold=THRESHOLD)\n",
        "  FINAL_LABELS = fill_blank(valid_CHECK_TS, LABELS, np.array(raw_validation['timestamp']))\n",
        "  TaPR = etapr.evaluate_haicon(anomalies=ATTACK_LABELS, predictions=FINAL_LABELS)\n",
        "  print(f\"F1: {TaPR['f1']:.4f} (TaP: {TaPR['TaP']:.4f}, TaR: {TaPR['TaR']:.4f}) Threshold = {THRESHOLD:.5f}\")"
      ],
      "execution_count": null,
      "outputs": [
        {
          "output_type": "display_data",
          "data": {
            "application/vnd.jupyter.widget-view+json": {
              "model_id": "a763d72b63f14d74a1c215d8e333ee63",
              "version_minor": 0,
              "version_major": 2
            },
            "text/plain": [
              "  0%|          | 0/1000 [00:00<?, ?it/s]"
            ]
          },
          "metadata": {}
        },
        {
          "output_type": "stream",
          "name": "stdout",
          "text": [
            "F1: 0.0091 (TaP: 0.0046, TaR: 0.7417) Threshold = 0.05000\n",
            "F1: 0.0089 (TaP: 0.0045, TaR: 0.6919) Threshold = 0.05500\n",
            "F1: 0.0082 (TaP: 0.0041, TaR: 0.6023) Threshold = 0.06000\n",
            "F1: 0.0080 (TaP: 0.0040, TaR: 0.5547) Threshold = 0.06500\n",
            "F1: 0.0087 (TaP: 0.0044, TaR: 0.4710) Threshold = 0.07000\n",
            "F1: 0.0100 (TaP: 0.0050, TaR: 0.4004) Threshold = 0.07500\n",
            "F1: 0.0128 (TaP: 0.0065, TaR: 0.3199) Threshold = 0.08000\n",
            "F1: 0.0162 (TaP: 0.0083, TaR: 0.2627) Threshold = 0.08500\n",
            "F1: 0.0168 (TaP: 0.0088, TaR: 0.1926) Threshold = 0.09000\n",
            "F1: 0.0173 (TaP: 0.0094, TaR: 0.1144) Threshold = 0.09500\n",
            "F1: 0.0154 (TaP: 0.0085, TaR: 0.0805) Threshold = 0.10000\n",
            "F1: 0.0000 (TaP: 0.0000, TaR: 0.0000) Threshold = 0.10500\n",
            "F1: 0.0000 (TaP: 0.0000, TaR: 0.0000) Threshold = 0.11000\n",
            "F1: 0.0000 (TaP: 0.0000, TaR: 0.0000) Threshold = 0.11500\n",
            "F1: 0.0000 (TaP: 0.0000, TaR: 0.0000) Threshold = 0.12000\n",
            "F1: 0.0000 (TaP: 0.0000, TaR: 0.0000) Threshold = 0.12500\n",
            "F1: 0.0000 (TaP: 0.0000, TaR: 0.0000) Threshold = 0.13000\n",
            "F1: 0.0000 (TaP: 0.0000, TaR: 0.0000) Threshold = 0.13500\n",
            "F1: 0.0000 (TaP: 0.0000, TaR: 0.0000) Threshold = 0.14000\n",
            "F1: 0.0000 (TaP: 0.0000, TaR: 0.0000) Threshold = 0.14500\n",
            "F1: 0.0000 (TaP: 0.0000, TaR: 0.0000) Threshold = 0.15000\n",
            "F1: 0.0000 (TaP: 0.0000, TaR: 0.0000) Threshold = 0.15500\n",
            "F1: 0.0000 (TaP: 0.0000, TaR: 0.0000) Threshold = 0.16000\n",
            "F1: 0.0000 (TaP: 0.0000, TaR: 0.0000) Threshold = 0.16500\n",
            "F1: 0.0000 (TaP: 0.0000, TaR: 0.0000) Threshold = 0.17000\n",
            "F1: 0.0000 (TaP: 0.0000, TaR: 0.0000) Threshold = 0.17500\n",
            "F1: 0.0000 (TaP: 0.0000, TaR: 0.0000) Threshold = 0.18000\n",
            "F1: 0.0000 (TaP: 0.0000, TaR: 0.0000) Threshold = 0.18500\n",
            "F1: 0.0000 (TaP: 0.0000, TaR: 0.0000) Threshold = 0.19000\n"
          ]
        }
      ]
    },
    {
      "cell_type": "code",
      "metadata": {
        "id": "QSFtykFnFmBZ"
      },
      "source": [
        "###### valid_test용 #################\n",
        "THRESHOLD = 0.01900\n",
        "LABELS = put_labels(valid_ANOMALY_SCORE, THRESHOLD)\n",
        "ATTACK_LABELS = put_labels(np.array(raw_validation['attack']), threshold=THRESHOLD)\n"
      ],
      "execution_count": null,
      "outputs": []
    },
    {
      "cell_type": "code",
      "metadata": {
        "id": "wCMHGU-L1UIa",
        "colab": {
          "base_uri": "https://localhost:8080/"
        },
        "outputId": "be68b173-073b-432a-a30d-93b1da1bb4db"
      },
      "source": [
        "%%time\n",
        "FINAL_LABELS = fill_blank(valid_CHECK_TS, LABELS, np.array(raw_validation['timestamp'])) # Labeling 진행\n",
        "FINAL_LABELS.shape"
      ],
      "execution_count": null,
      "outputs": [
        {
          "output_type": "stream",
          "name": "stdout",
          "text": [
            "CPU times: user 15.7 s, sys: 53.1 ms, total: 15.7 s\n",
            "Wall time: 15.7 s\n"
          ]
        }
      ]
    },
    {
      "cell_type": "markdown",
      "metadata": {
        "id": "CCdyYQZyz_yj"
      },
      "source": [
        "## 평가"
      ]
    },
    {
      "cell_type": "code",
      "metadata": {
        "id": "Ln0Nz_cJ0AgP",
        "colab": {
          "base_uri": "https://localhost:8080/"
        },
        "outputId": "d4499299-c945-4897-de52-6fc3e04aecb3"
      },
      "source": [
        "TaPR = etapr.evaluate_haicon(anomalies=ATTACK_LABELS, predictions=FINAL_LABELS)\n",
        "print(f\"F1: {TaPR['f1']:.3f} (TaP: {TaPR['TaP']:.3f}, TaR: {TaPR['TaR']:.3f})\")\n",
        "print(f\"# of detected anomalies: {len(TaPR['Detected_Anomalies'])}\")\n",
        "print(f\"Detected anomalies: {TaPR['Detected_Anomalies']}\") # f1 score로 점수 받기"
      ],
      "execution_count": null,
      "outputs": [
        {
          "output_type": "stream",
          "name": "stdout",
          "text": [
            "F1: 0.126 (TaP: 0.080, TaR: 0.297)\n",
            "# of detected anomalies: 4\n",
            "Detected anomalies: [<TaPR_pkg.DataManage.Range.Range object at 0x7f95da9eac10>, <TaPR_pkg.DataManage.Range.Range object at 0x7f95da9ea5d0>, <TaPR_pkg.DataManage.Range.Range object at 0x7f95da9ea890>, <TaPR_pkg.DataManage.Range.Range object at 0x7f95e01eea10>]\n"
          ]
        }
      ]
    },
    {
      "cell_type": "code",
      "metadata": {
        "id": "XixJ0ZhE0CPp"
      },
      "source": [
        "# boundary_check(df_test)\n",
        "# test_data = HaiDataset(raw_test['timestamp'],df_test, stride=1)\n",
        "\n",
        "# test_data[0]"
      ],
      "execution_count": null,
      "outputs": []
    },
    {
      "cell_type": "code",
      "metadata": {
        "id": "jh0JAFl00LsC",
        "colab": {
          "base_uri": "https://localhost:8080/"
        },
        "outputId": "ddcb8cee-e7a4-4da9-ab7b-de41c8cf8d4a"
      },
      "source": [
        "%%time\n",
        "MODEL.eval()\n",
        "CHECK_TS, CHECK_DIST, CHECK_ATT = inference(test_data, MODEL, BATCH_SIZE)"
      ],
      "execution_count": null,
      "outputs": [
        {
          "output_type": "stream",
          "name": "stdout",
          "text": [
            "CPU times: user 31 s, sys: 171 ms, total: 31.2 s\n",
            "Wall time: 31.1 s\n"
          ]
        }
      ]
    },
    {
      "cell_type": "code",
      "metadata": {
        "id": "CTHwtBoH0Nlc"
      },
      "source": [
        "ANOMALY_SCORE = np.mean(CHECK_DIST, axis=1)"
      ],
      "execution_count": null,
      "outputs": []
    },
    {
      "cell_type": "code",
      "metadata": {
        "id": "egOan7Wy0QTr",
        "colab": {
          "base_uri": "https://localhost:8080/",
          "height": 700
        },
        "outputId": "127ccd77-6c24-4758-c631-afacb237e1d1"
      },
      "source": [
        "check_graph(ANOMALY_SCORE, CHECK_ATT, piece=3, THRESHOLD=THRESHOLD)"
      ],
      "execution_count": null,
      "outputs": [
        {
          "output_type": "display_data",
          "data": {
            "image/png": "[encoded data removed]",
            "text/plain": [
              "<Figure size 1440x864 with 3 Axes>"
            ]
          },
          "metadata": {
            "needs_background": "light"
          }
        }
      ]
    },
    {
      "cell_type": "code",
      "metadata": {
        "id": "TOYRG8A10TeE",
        "colab": {
          "base_uri": "https://localhost:8080/"
        },
        "outputId": "248e978b-526c-4af2-c016-593e24f6e27a"
      },
      "source": [
        "LABELS = put_labels(ANOMALY_SCORE, THRESHOLD)\n",
        "LABELS, LABELS.shape"
      ],
      "execution_count": null,
      "outputs": [
        {
          "output_type": "execute_result",
          "data": {
            "text/plain": [
              "(array([0., 0., 0., ..., 0., 0., 0.], dtype=float32), (274683,))"
            ]
          },
          "metadata": {},
          "execution_count": 93
        }
      ]
    },
    {
      "cell_type": "code",
      "metadata": {
        "id": "9Cuo0DxR0agM"
      },
      "source": [
        ""
      ],
      "execution_count": null,
      "outputs": []
    },
    {
      "cell_type": "markdown",
      "metadata": {
        "id": "3rfMZnHk0bSq"
      },
      "source": [
        "## 저장"
      ]
    },
    {
      "cell_type": "code",
      "metadata": {
        "id": "kmtVHqyG0WJr",
        "colab": {
          "base_uri": "https://localhost:8080/",
          "height": 454
        },
        "outputId": "ddf27d29-6d0c-4a97-c1d3-84ff58e3738e"
      },
      "source": [
        "submission = pd.read_csv('./gdrive/MyDrive/멋사_study/HAICon2021/HAICon2021_dataset/sample_submission.csv')\n",
        "submission.index = submission['timestamp']\n",
        "submission.loc[CHECK_TS,'attack'] = LABELS\n",
        "submission"
      ],
      "execution_count": null,
      "outputs": [
        {
          "output_type": "execute_result",
          "data": {
            "text/html": [
              "<div>\n",
              "<style scoped>\n",
              "    .dataframe tbody tr th:only-of-type {\n",
              "        vertical-align: middle;\n",
              "    }\n",
              "\n",
              "    .dataframe tbody tr th {\n",
              "        vertical-align: top;\n",
              "    }\n",
              "\n",
              "    .dataframe thead th {\n",
              "        text-align: right;\n",
              "    }\n",
              "</style>\n",
              "<table border=\"1\" class=\"dataframe\">\n",
              "  <thead>\n",
              "    <tr style=\"text-align: right;\">\n",
              "      <th></th>\n",
              "      <th>timestamp</th>\n",
              "      <th>attack</th>\n",
              "    </tr>\n",
              "    <tr>\n",
              "      <th>timestamp</th>\n",
              "      <th></th>\n",
              "      <th></th>\n",
              "    </tr>\n",
              "  </thead>\n",
              "  <tbody>\n",
              "    <tr>\n",
              "      <th>2021-07-13 16:00:01</th>\n",
              "      <td>2021-07-13 16:00:01</td>\n",
              "      <td>0.0</td>\n",
              "    </tr>\n",
              "    <tr>\n",
              "      <th>2021-07-13 16:00:02</th>\n",
              "      <td>2021-07-13 16:00:02</td>\n",
              "      <td>0.0</td>\n",
              "    </tr>\n",
              "    <tr>\n",
              "      <th>2021-07-13 16:00:03</th>\n",
              "      <td>2021-07-13 16:00:03</td>\n",
              "      <td>0.0</td>\n",
              "    </tr>\n",
              "    <tr>\n",
              "      <th>2021-07-13 16:00:04</th>\n",
              "      <td>2021-07-13 16:00:04</td>\n",
              "      <td>0.0</td>\n",
              "    </tr>\n",
              "    <tr>\n",
              "      <th>2021-07-13 16:00:05</th>\n",
              "      <td>2021-07-13 16:00:05</td>\n",
              "      <td>0.0</td>\n",
              "    </tr>\n",
              "    <tr>\n",
              "      <th>...</th>\n",
              "      <td>...</td>\n",
              "      <td>...</td>\n",
              "    </tr>\n",
              "    <tr>\n",
              "      <th>2021-07-16 23:59:56</th>\n",
              "      <td>2021-07-16 23:59:56</td>\n",
              "      <td>0.0</td>\n",
              "    </tr>\n",
              "    <tr>\n",
              "      <th>2021-07-16 23:59:57</th>\n",
              "      <td>2021-07-16 23:59:57</td>\n",
              "      <td>0.0</td>\n",
              "    </tr>\n",
              "    <tr>\n",
              "      <th>2021-07-16 23:59:58</th>\n",
              "      <td>2021-07-16 23:59:58</td>\n",
              "      <td>0.0</td>\n",
              "    </tr>\n",
              "    <tr>\n",
              "      <th>2021-07-16 23:59:59</th>\n",
              "      <td>2021-07-16 23:59:59</td>\n",
              "      <td>0.0</td>\n",
              "    </tr>\n",
              "    <tr>\n",
              "      <th>2021-07-17 00:00:00</th>\n",
              "      <td>2021-07-17 00:00:00</td>\n",
              "      <td>0.0</td>\n",
              "    </tr>\n",
              "  </tbody>\n",
              "</table>\n",
              "<p>274800 rows × 2 columns</p>\n",
              "</div>"
            ],
            "text/plain": [
              "                               timestamp  attack\n",
              "timestamp                                       \n",
              "2021-07-13 16:00:01  2021-07-13 16:00:01     0.0\n",
              "2021-07-13 16:00:02  2021-07-13 16:00:02     0.0\n",
              "2021-07-13 16:00:03  2021-07-13 16:00:03     0.0\n",
              "2021-07-13 16:00:04  2021-07-13 16:00:04     0.0\n",
              "2021-07-13 16:00:05  2021-07-13 16:00:05     0.0\n",
              "...                                  ...     ...\n",
              "2021-07-16 23:59:56  2021-07-16 23:59:56     0.0\n",
              "2021-07-16 23:59:57  2021-07-16 23:59:57     0.0\n",
              "2021-07-16 23:59:58  2021-07-16 23:59:58     0.0\n",
              "2021-07-16 23:59:59  2021-07-16 23:59:59     0.0\n",
              "2021-07-17 00:00:00  2021-07-17 00:00:00     0.0\n",
              "\n",
              "[274800 rows x 2 columns]"
            ]
          },
          "metadata": {},
          "execution_count": 94
        }
      ]
    },
    {
      "cell_type": "code",
      "metadata": {
        "id": "AQVEXqWY1JuV"
      },
      "source": [
        "submission.to_csv('./gdrive/MyDrive/멋사_study/HAICon2021/Submission/submission_W{}_B{}_P{}_D{}_E{}_T{}.csv'.format(WINDOW_SIZE,BATCH_SIZE,N_HIDDENS,N_LAYERS,n_epochs,THRESHOLD), index=False)"
      ],
      "execution_count": null,
      "outputs": []
    },
    {
      "cell_type": "code",
      "metadata": {
        "id": "N77Q9LhjvKif"
      },
      "source": [
        ""
      ],
      "execution_count": null,
      "outputs": []
    }
  ]
}